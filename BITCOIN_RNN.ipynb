{
  "cells": [
    {
      "cell_type": "code",
      "source": [
        "!mkdir -p ~/.kaggle\n",
        "!mv kaggle.json ~/.kaggle/\n",
        "!chmod 600 ~/.kaggle/kaggle.json\n",
        "!kaggle datasets download -d mczielinski/bitcoin-historical-data\n"
      ],
      "metadata": {
        "colab": {
          "base_uri": "https://localhost:8080/"
        },
        "id": "bp8FsZD2Ri_-",
        "outputId": "fa0496e0-44c5-4c59-9188-ae3758530cc1"
      },
      "id": "bp8FsZD2Ri_-",
      "execution_count": 6,
      "outputs": [
        {
          "output_type": "stream",
          "name": "stdout",
          "text": [
            "Downloading bitcoin-historical-data.zip to /content\n",
            " 82% 82.0M/100M [00:00<00:00, 98.3MB/s]\n",
            "100% 100M/100M [00:00<00:00, 108MB/s]  \n"
          ]
        }
      ]
    },
    {
      "cell_type": "code",
      "source": [
        "import os\n",
        "import zipfile\n",
        "from tqdm import tqdm\n",
        "\n",
        "\n",
        "zip_file_name = 'bitcoin-historical-data.zip'\n",
        "\n",
        "\n",
        "target_directory = '/content'\n",
        "\n",
        "\n",
        "os.makedirs(target_directory, exist_ok=True)\n",
        "\n",
        "\n",
        "with zipfile.ZipFile(zip_file_name, 'r') as zip_ref:\n",
        "    total_files = len(zip_ref.infolist())\n",
        "\n",
        "\n",
        "with zipfile.ZipFile(zip_file_name, 'r') as zip_ref:\n",
        "    for file_info in tqdm(zip_ref.infolist(), desc=\"Extracting\", unit=\" files\", ncols=100):\n",
        "        zip_ref.extract(file_info, target_directory)\n"
      ],
      "metadata": {
        "colab": {
          "base_uri": "https://localhost:8080/"
        },
        "id": "xZC0bVlFSl7Y",
        "outputId": "c338dbc3-63f9-4c82-9d5c-a06fe0da282b"
      },
      "id": "xZC0bVlFSl7Y",
      "execution_count": 8,
      "outputs": [
        {
          "output_type": "stream",
          "name": "stderr",
          "text": [
            "Extracting: 100%|█████████████████████████████████████████████████| 1/1 [00:03<00:00,  3.80s/ files]\n"
          ]
        }
      ]
    },
    {
      "cell_type": "code",
      "execution_count": 7,
      "id": "b16e0813",
      "metadata": {
        "_cell_guid": "b1076dfc-b9ad-4769-8c92-a6c4dae69d19",
        "_uuid": "8f2839f25d086af736a60e9eeb907d3b93b6e0e5",
        "execution": {
          "iopub.execute_input": "2022-12-05T10:47:34.880532Z",
          "iopub.status.busy": "2022-12-05T10:47:34.880049Z",
          "iopub.status.idle": "2022-12-05T10:47:47.687218Z",
          "shell.execute_reply": "2022-12-05T10:47:47.685577Z"
        },
        "papermill": {
          "duration": 12.820636,
          "end_time": "2022-12-05T10:47:47.691085",
          "exception": false,
          "start_time": "2022-12-05T10:47:34.870449",
          "status": "completed"
        },
        "tags": [],
        "id": "b16e0813"
      },
      "outputs": [],
      "source": [
        "import numpy as np\n",
        "import pandas as pd\n",
        "from sklearn.impute import KNNImputer\n",
        "from statsmodels.stats.outliers_influence import variance_inflation_factor\n",
        "import tensorflow as tf\n",
        "from tensorflow.keras import datasets, layers, models\n",
        "import seaborn as sns\n",
        "import matplotlib.pyplot as plt\n",
        "import statsmodels.api as sm\n",
        "import os"
      ]
    },
    {
      "cell_type": "markdown",
      "id": "b21177f8",
      "metadata": {
        "papermill": {
          "duration": 0.005111,
          "end_time": "2022-12-05T10:47:47.701920",
          "exception": false,
          "start_time": "2022-12-05T10:47:47.696809",
          "status": "completed"
        },
        "tags": [],
        "id": "b21177f8"
      },
      "source": [
        "Upload bitcoin timeseries data\n",
        "convert minute data to daily data"
      ]
    },
    {
      "cell_type": "code",
      "execution_count": 9,
      "id": "0541deda",
      "metadata": {
        "execution": {
          "iopub.execute_input": "2022-12-05T10:47:47.716468Z",
          "iopub.status.busy": "2022-12-05T10:47:47.715666Z",
          "iopub.status.idle": "2022-12-05T10:47:56.082955Z",
          "shell.execute_reply": "2022-12-05T10:47:56.081205Z"
        },
        "papermill": {
          "duration": 8.378362,
          "end_time": "2022-12-05T10:47:56.086151",
          "exception": false,
          "start_time": "2022-12-05T10:47:47.707789",
          "status": "completed"
        },
        "tags": [],
        "id": "0541deda"
      },
      "outputs": [],
      "source": [
        "df = pd.read_csv('bitstampUSD_1-min_data_2012-01-01_to_2021-03-31.csv')\n",
        "df.Timestamp = pd.to_datetime(df.Timestamp, unit='s')\n",
        "df.set_index('Timestamp', inplace=True)\n",
        "df = df.resample('D').mean()"
      ]
    },
    {
      "cell_type": "markdown",
      "id": "7c3b3ede",
      "metadata": {
        "papermill": {
          "duration": 0.006513,
          "end_time": "2022-12-05T10:47:56.102847",
          "exception": false,
          "start_time": "2022-12-05T10:47:56.096334",
          "status": "completed"
        },
        "tags": [],
        "id": "7c3b3ede"
      },
      "source": [
        "simple check for the data"
      ]
    },
    {
      "cell_type": "code",
      "execution_count": 10,
      "id": "93951df4",
      "metadata": {
        "execution": {
          "iopub.execute_input": "2022-12-05T10:47:56.116171Z",
          "iopub.status.busy": "2022-12-05T10:47:56.115764Z",
          "iopub.status.idle": "2022-12-05T10:47:56.167989Z",
          "shell.execute_reply": "2022-12-05T10:47:56.165589Z"
        },
        "papermill": {
          "duration": 0.063461,
          "end_time": "2022-12-05T10:47:56.172316",
          "exception": false,
          "start_time": "2022-12-05T10:47:56.108855",
          "status": "completed"
        },
        "tags": [],
        "colab": {
          "base_uri": "https://localhost:8080/"
        },
        "id": "93951df4",
        "outputId": "eb8d8c09-bd82-4190-daff-a48ff7541447"
      },
      "outputs": [
        {
          "output_type": "stream",
          "name": "stdout",
          "text": [
            "            Open  High  Low  Close  Volume_(BTC)  Volume_(Currency)  \\\n",
            "Timestamp                                                             \n",
            "2015-01-06   NaN   NaN  NaN    NaN           NaN                NaN   \n",
            "2015-01-07   NaN   NaN  NaN    NaN           NaN                NaN   \n",
            "2015-01-08   NaN   NaN  NaN    NaN           NaN                NaN   \n",
            "\n",
            "            Weighted_Price  \n",
            "Timestamp                   \n",
            "2015-01-06             NaN  \n",
            "2015-01-07             NaN  \n",
            "2015-01-08             NaN  \n"
          ]
        }
      ],
      "source": [
        "# data describe\n",
        "df.describe()\n",
        "# check null value\n",
        "print(df[df[\"Weighted_Price\"].isna()==True])"
      ]
    },
    {
      "cell_type": "markdown",
      "id": "7ea4ca92",
      "metadata": {
        "papermill": {
          "duration": 0.005415,
          "end_time": "2022-12-05T10:47:56.183901",
          "exception": false,
          "start_time": "2022-12-05T10:47:56.178486",
          "status": "completed"
        },
        "tags": [],
        "id": "7ea4ca92"
      },
      "source": [
        "Impute null data with KNNImputer"
      ]
    },
    {
      "cell_type": "code",
      "execution_count": 11,
      "id": "68794671",
      "metadata": {
        "execution": {
          "iopub.execute_input": "2022-12-05T10:47:56.197187Z",
          "iopub.status.busy": "2022-12-05T10:47:56.195964Z",
          "iopub.status.idle": "2022-12-05T10:47:56.221201Z",
          "shell.execute_reply": "2022-12-05T10:47:56.219856Z"
        },
        "papermill": {
          "duration": 0.034884,
          "end_time": "2022-12-05T10:47:56.224133",
          "exception": false,
          "start_time": "2022-12-05T10:47:56.189249",
          "status": "completed"
        },
        "tags": [],
        "id": "68794671"
      },
      "outputs": [],
      "source": [
        "# KNN imputation - impute null data with KNNImputer\n",
        "Kimp = KNNImputer(n_neighbors=10)\n",
        "df = pd.DataFrame(Kimp.fit_transform(df), index=df.index, columns=df.columns)\n"
      ]
    },
    {
      "cell_type": "markdown",
      "id": "7f19dead",
      "metadata": {
        "papermill": {
          "duration": 0.005062,
          "end_time": "2022-12-05T10:47:56.235170",
          "exception": false,
          "start_time": "2022-12-05T10:47:56.230108",
          "status": "completed"
        },
        "tags": [],
        "id": "7f19dead"
      },
      "source": [
        "Normalize data"
      ]
    },
    {
      "cell_type": "code",
      "execution_count": 12,
      "id": "4adea6fd",
      "metadata": {
        "execution": {
          "iopub.execute_input": "2022-12-05T10:47:56.247585Z",
          "iopub.status.busy": "2022-12-05T10:47:56.247125Z",
          "iopub.status.idle": "2022-12-05T10:47:56.257678Z",
          "shell.execute_reply": "2022-12-05T10:47:56.256319Z"
        },
        "papermill": {
          "duration": 0.019992,
          "end_time": "2022-12-05T10:47:56.260454",
          "exception": false,
          "start_time": "2022-12-05T10:47:56.240462",
          "status": "completed"
        },
        "tags": [],
        "id": "4adea6fd"
      },
      "outputs": [],
      "source": [
        "# normalize\n",
        "def normalize(data):\n",
        "    mean = data.mean()\n",
        "    std = data.std()\n",
        "    return (data-mean)/std\n",
        "\n",
        "\n",
        "df_norm = normalize(df)"
      ]
    },
    {
      "cell_type": "markdown",
      "id": "fea40b59",
      "metadata": {
        "papermill": {
          "duration": 0.005685,
          "end_time": "2022-12-05T10:47:56.273381",
          "exception": false,
          "start_time": "2022-12-05T10:47:56.267696",
          "status": "completed"
        },
        "tags": [],
        "id": "fea40b59"
      },
      "source": [
        "Check Multi Collinearity and eliminate it with VIF"
      ]
    },
    {
      "cell_type": "code",
      "execution_count": 13,
      "id": "07f7d2c0",
      "metadata": {
        "execution": {
          "iopub.execute_input": "2022-12-05T10:47:56.287987Z",
          "iopub.status.busy": "2022-12-05T10:47:56.286259Z",
          "iopub.status.idle": "2022-12-05T10:47:56.830775Z",
          "shell.execute_reply": "2022-12-05T10:47:56.829264Z"
        },
        "papermill": {
          "duration": 0.554808,
          "end_time": "2022-12-05T10:47:56.834080",
          "exception": false,
          "start_time": "2022-12-05T10:47:56.279272",
          "status": "completed"
        },
        "tags": [],
        "colab": {
          "base_uri": "https://localhost:8080/",
          "height": 553
        },
        "id": "07f7d2c0",
        "outputId": "a398d192-9203-4ce8-b827-87bd6e2b7110"
      },
      "outputs": [
        {
          "output_type": "display_data",
          "data": {
            "text/plain": [
              "<Figure size 640x480 with 2 Axes>"
            ],
            "image/png": "[encoded data removed]"
          },
          "metadata": {}
        }
      ],
      "source": [
        "# simple check by watching the heatmap\n",
        "sns.heatmap(df_norm.corr())\n",
        "# create vif dataframe\n",
        "vif = pd.DataFrame()\n",
        "vif['vif_factor'] = [variance_inflation_factor(df_norm.values, i) for i in range(df_norm.shape[1])]\n",
        "vif['feature'] = df.columns\n",
        "\n",
        "# get rid of 'Volume_(Currency)' which has the highest multiCollinearity\n",
        "df_norm.drop('Volume_(Currency)', axis=1, inplace=True)\n",
        "\n"
      ]
    },
    {
      "cell_type": "markdown",
      "id": "43a4e124",
      "metadata": {
        "papermill": {
          "duration": 0.006231,
          "end_time": "2022-12-05T10:47:56.850409",
          "exception": false,
          "start_time": "2022-12-05T10:47:56.844178",
          "status": "completed"
        },
        "tags": [],
        "id": "43a4e124"
      },
      "source": [
        "Check Stationary with adfuller -> We can see every feature is non-station"
      ]
    },
    {
      "cell_type": "code",
      "execution_count": 14,
      "id": "13135f2e",
      "metadata": {
        "execution": {
          "iopub.execute_input": "2022-12-05T10:47:56.872615Z",
          "iopub.status.busy": "2022-12-05T10:47:56.871685Z",
          "iopub.status.idle": "2022-12-05T10:47:58.490503Z",
          "shell.execute_reply": "2022-12-05T10:47:58.487735Z"
        },
        "papermill": {
          "duration": 1.639879,
          "end_time": "2022-12-05T10:47:58.496689",
          "exception": false,
          "start_time": "2022-12-05T10:47:56.856810",
          "status": "completed"
        },
        "tags": [],
        "colab": {
          "base_uri": "https://localhost:8080/"
        },
        "id": "13135f2e",
        "outputId": "7e137182-d23e-4de2-b8c4-6bfe875598f6"
      },
      "outputs": [
        {
          "output_type": "stream",
          "name": "stdout",
          "text": [
            "Augmented Dickey–Fuller test: p=1.000000\n",
            "Augmented Dickey–Fuller test: p=1.000000\n",
            "Augmented Dickey–Fuller test: p=1.000000\n",
            "Augmented Dickey–Fuller test: p=1.000000\n",
            "Augmented Dickey–Fuller test: p=0.000394\n",
            "Augmented Dickey–Fuller test: p=1.000000\n"
          ]
        }
      ],
      "source": [
        "cols = df_norm.columns\n",
        "for col in cols:\n",
        "    print(\"Augmented Dickey–Fuller test: p=%f\" % sm.tsa.stattools.adfuller(df_norm[col])[1])\n"
      ]
    },
    {
      "cell_type": "markdown",
      "id": "0239365d",
      "metadata": {
        "papermill": {
          "duration": 0.030688,
          "end_time": "2022-12-05T10:47:58.552293",
          "exception": false,
          "start_time": "2022-12-05T10:47:58.521605",
          "status": "completed"
        },
        "tags": [],
        "id": "0239365d"
      },
      "source": [
        "BUT I won't transform it to stationary data. Because RNN is strong enough to deal with non stationary data"
      ]
    },
    {
      "cell_type": "markdown",
      "id": "2c779f9e",
      "metadata": {
        "papermill": {
          "duration": 0.016541,
          "end_time": "2022-12-05T10:47:58.597364",
          "exception": false,
          "start_time": "2022-12-05T10:47:58.580823",
          "status": "completed"
        },
        "tags": [],
        "id": "2c779f9e"
      },
      "source": [
        "Simple Function for RNN"
      ]
    },
    {
      "cell_type": "code",
      "execution_count": 16,
      "id": "6cca738f",
      "metadata": {
        "execution": {
          "iopub.execute_input": "2022-12-05T10:47:58.612311Z",
          "iopub.status.busy": "2022-12-05T10:47:58.611834Z",
          "iopub.status.idle": "2022-12-05T10:47:58.622308Z",
          "shell.execute_reply": "2022-12-05T10:47:58.620949Z"
        },
        "papermill": {
          "duration": 0.021124,
          "end_time": "2022-12-05T10:47:58.625087",
          "exception": false,
          "start_time": "2022-12-05T10:47:58.603963",
          "status": "completed"
        },
        "tags": [],
        "id": "6cca738f"
      },
      "outputs": [],
      "source": [
        "def data_for_rnn(input, seq_len):\n",
        "    x_li = []\n",
        "    x_idx = input.index[seq_len-1:-1]\n",
        "    for i in range(len(input)-seq_len):\n",
        "        x_li.append(input.iloc[i:i+seq_len].values)\n",
        "    return x_li, x_idx\n",
        "\n",
        "def RNNmodel(out_shape, seq_len, n_feature):\n",
        "    out_shape = out_shape\n",
        "\n",
        "    model = models.Sequential()\n",
        "    model.add(layers.Input(shape=(seq_len, n_feature), name='input'))\n",
        "    model.add(layers.LSTM(128, activation='relu', return_sequences=True, name='first'))\n",
        "    model.add(layers.LSTM(64, activation='relu', name='second'))\n",
        "    model.add(layers.Dense(out_shape))\n",
        "    model.summary()\n",
        "    model.compile(optimizer='adam',\n",
        "                  loss = 'mse',\n",
        "                  metrics=['accuracy'])\n",
        "    return model"
      ]
    },
    {
      "cell_type": "markdown",
      "id": "915ae407",
      "metadata": {
        "papermill": {
          "duration": 0.005643,
          "end_time": "2022-12-05T10:47:58.636852",
          "exception": false,
          "start_time": "2022-12-05T10:47:58.631209",
          "status": "completed"
        },
        "tags": [],
        "id": "915ae407"
      },
      "source": [
        "convert x, y to be good pair for tf model"
      ]
    },
    {
      "cell_type": "code",
      "execution_count": 17,
      "id": "9fd736f0",
      "metadata": {
        "execution": {
          "iopub.execute_input": "2022-12-05T10:47:58.652683Z",
          "iopub.status.busy": "2022-12-05T10:47:58.652222Z",
          "iopub.status.idle": "2022-12-05T10:47:59.073651Z",
          "shell.execute_reply": "2022-12-05T10:47:59.072652Z"
        },
        "papermill": {
          "duration": 0.432627,
          "end_time": "2022-12-05T10:47:59.076157",
          "exception": false,
          "start_time": "2022-12-05T10:47:58.643530",
          "status": "completed"
        },
        "tags": [],
        "id": "9fd736f0"
      },
      "outputs": [],
      "source": [
        "seq_len = 20\n",
        "\n",
        "x_rnn, x_idx = data_for_rnn(df_norm['Weighted_Price'], seq_len)\n",
        "x_rnn = tf.convert_to_tensor(np.expand_dims(x_rnn, axis=2))\n",
        "\n",
        "y = df['Weighted_Price'].iloc[20:]\n",
        "y = normalize(y)\n",
        "y_rnn = tf.convert_to_tensor(np.expand_dims(y, axis=1))\n",
        "\n",
        "trn_size = int(len(x_rnn)*0.7)\n",
        "val_size = int(len(x_rnn)*0.1)\n",
        "\n",
        "x_trn = x_rnn[:trn_size]\n",
        "x_val = x_rnn[trn_size:trn_size+val_size]\n",
        "x_tst = x_rnn[trn_size+val_size:]\n",
        "\n",
        "\n",
        "y_trn = y_rnn[:trn_size]\n",
        "y_val = y_rnn[trn_size:trn_size+val_size]\n",
        "y_tst = y_rnn[trn_size+val_size:]\n"
      ]
    },
    {
      "cell_type": "markdown",
      "id": "34974fa3",
      "metadata": {
        "papermill": {
          "duration": 0.005732,
          "end_time": "2022-12-05T10:47:59.088003",
          "exception": false,
          "start_time": "2022-12-05T10:47:59.082271",
          "status": "completed"
        },
        "tags": [],
        "id": "34974fa3"
      },
      "source": [
        "execute the model"
      ]
    },
    {
      "cell_type": "code",
      "execution_count": 18,
      "id": "ae8bbd11",
      "metadata": {
        "execution": {
          "iopub.execute_input": "2022-12-05T10:47:59.105685Z",
          "iopub.status.busy": "2022-12-05T10:47:59.105032Z",
          "iopub.status.idle": "2022-12-05T10:50:24.956138Z",
          "shell.execute_reply": "2022-12-05T10:50:24.954861Z"
        },
        "papermill": {
          "duration": 145.970059,
          "end_time": "2022-12-05T10:50:25.066256",
          "exception": false,
          "start_time": "2022-12-05T10:47:59.096197",
          "status": "completed"
        },
        "tags": [],
        "colab": {
          "base_uri": "https://localhost:8080/"
        },
        "id": "ae8bbd11",
        "outputId": "cf850db2-b3b3-414b-a77b-83ad73fb108f"
      },
      "outputs": [
        {
          "output_type": "stream",
          "name": "stdout",
          "text": [
            "Model: \"sequential\"\n",
            "_________________________________________________________________\n",
            " Layer (type)                Output Shape              Param #   \n",
            "=================================================================\n",
            " first (LSTM)                (None, 20, 128)           66560     \n",
            "                                                                 \n",
            " second (LSTM)               (None, 64)                49408     \n",
            "                                                                 \n",
            " dense (Dense)               (None, 1)                 65        \n",
            "                                                                 \n",
            "=================================================================\n",
            "Total params: 116033 (453.25 KB)\n",
            "Trainable params: 116033 (453.25 KB)\n",
            "Non-trainable params: 0 (0.00 Byte)\n",
            "_________________________________________________________________\n",
            "Model: \"sequential\"\n",
            "_________________________________________________________________\n",
            " Layer (type)                Output Shape              Param #   \n",
            "=================================================================\n",
            " first (LSTM)                (None, 20, 128)           66560     \n",
            "                                                                 \n",
            " second (LSTM)               (None, 64)                49408     \n",
            "                                                                 \n",
            " dense (Dense)               (None, 1)                 65        \n",
            "                                                                 \n",
            "=================================================================\n",
            "Total params: 116033 (453.25 KB)\n",
            "Trainable params: 116033 (453.25 KB)\n",
            "Non-trainable params: 0 (0.00 Byte)\n",
            "_________________________________________________________________\n",
            "Epoch 1/40\n",
            "74/74 [==============================] - 6s 44ms/step - loss: 0.0506 - accuracy: 0.0000e+00 - val_loss: 0.0071 - val_accuracy: 0.0000e+00\n",
            "Epoch 2/40\n",
            "74/74 [==============================] - 3s 36ms/step - loss: 0.0059 - accuracy: 0.0000e+00 - val_loss: 0.0047 - val_accuracy: 0.0000e+00\n",
            "Epoch 3/40\n",
            "74/74 [==============================] - 4s 54ms/step - loss: 0.0052 - accuracy: 0.0000e+00 - val_loss: 0.0034 - val_accuracy: 0.0000e+00\n",
            "Epoch 4/40\n",
            "74/74 [==============================] - 3s 37ms/step - loss: 0.0039 - accuracy: 0.0000e+00 - val_loss: 0.0095 - val_accuracy: 0.0000e+00\n",
            "Epoch 5/40\n",
            "74/74 [==============================] - 3s 37ms/step - loss: 0.0034 - accuracy: 0.0000e+00 - val_loss: 0.0042 - val_accuracy: 0.0000e+00\n",
            "Epoch 6/40\n",
            "74/74 [==============================] - 3s 38ms/step - loss: 0.0030 - accuracy: 0.0000e+00 - val_loss: 0.0028 - val_accuracy: 0.0000e+00\n",
            "Epoch 7/40\n",
            "74/74 [==============================] - 4s 54ms/step - loss: 0.0027 - accuracy: 0.0000e+00 - val_loss: 0.0036 - val_accuracy: 0.0000e+00\n",
            "Epoch 8/40\n",
            "74/74 [==============================] - 3s 36ms/step - loss: 0.0027 - accuracy: 0.0000e+00 - val_loss: 0.0021 - val_accuracy: 0.0000e+00\n",
            "Epoch 9/40\n",
            "74/74 [==============================] - 3s 36ms/step - loss: 0.0023 - accuracy: 0.0000e+00 - val_loss: 0.0025 - val_accuracy: 0.0000e+00\n",
            "Epoch 10/40\n",
            "74/74 [==============================] - 3s 37ms/step - loss: 0.0024 - accuracy: 0.0000e+00 - val_loss: 0.0030 - val_accuracy: 0.0000e+00\n",
            "Epoch 11/40\n",
            "74/74 [==============================] - 4s 49ms/step - loss: 0.0020 - accuracy: 0.0000e+00 - val_loss: 0.0017 - val_accuracy: 0.0000e+00\n",
            "Epoch 12/40\n",
            "74/74 [==============================] - 3s 42ms/step - loss: 0.0019 - accuracy: 0.0000e+00 - val_loss: 0.0034 - val_accuracy: 0.0000e+00\n",
            "Epoch 13/40\n",
            "74/74 [==============================] - 3s 36ms/step - loss: 0.0021 - accuracy: 0.0000e+00 - val_loss: 0.0016 - val_accuracy: 0.0000e+00\n",
            "Epoch 14/40\n",
            "74/74 [==============================] - 3s 36ms/step - loss: 0.0017 - accuracy: 0.0000e+00 - val_loss: 0.0017 - val_accuracy: 0.0000e+00\n",
            "Epoch 15/40\n",
            "74/74 [==============================] - 3s 41ms/step - loss: 0.0017 - accuracy: 0.0000e+00 - val_loss: 0.0017 - val_accuracy: 0.0000e+00\n",
            "Epoch 16/40\n",
            "74/74 [==============================] - 4s 49ms/step - loss: 0.0015 - accuracy: 0.0000e+00 - val_loss: 0.0023 - val_accuracy: 0.0000e+00\n",
            "Epoch 17/40\n",
            "74/74 [==============================] - 3s 36ms/step - loss: 0.0015 - accuracy: 0.0000e+00 - val_loss: 0.0014 - val_accuracy: 0.0000e+00\n",
            "Epoch 18/40\n",
            "74/74 [==============================] - 3s 37ms/step - loss: 0.0015 - accuracy: 0.0000e+00 - val_loss: 0.0019 - val_accuracy: 0.0000e+00\n",
            "Epoch 19/40\n",
            "74/74 [==============================] - 3s 37ms/step - loss: 0.0013 - accuracy: 0.0000e+00 - val_loss: 0.0015 - val_accuracy: 0.0000e+00\n",
            "Epoch 20/40\n",
            "74/74 [==============================] - 4s 56ms/step - loss: 0.0015 - accuracy: 0.0000e+00 - val_loss: 0.0013 - val_accuracy: 0.0000e+00\n",
            "Epoch 21/40\n",
            "74/74 [==============================] - 3s 36ms/step - loss: 0.0012 - accuracy: 0.0000e+00 - val_loss: 0.0012 - val_accuracy: 0.0000e+00\n",
            "Epoch 22/40\n",
            "74/74 [==============================] - 3s 36ms/step - loss: 0.0014 - accuracy: 0.0000e+00 - val_loss: 0.0011 - val_accuracy: 0.0000e+00\n",
            "Epoch 23/40\n",
            "74/74 [==============================] - 3s 37ms/step - loss: 0.0012 - accuracy: 0.0000e+00 - val_loss: 0.0011 - val_accuracy: 0.0000e+00\n",
            "Epoch 24/40\n",
            "74/74 [==============================] - 4s 54ms/step - loss: 0.0012 - accuracy: 0.0000e+00 - val_loss: 0.0036 - val_accuracy: 0.0000e+00\n",
            "Epoch 25/40\n",
            "74/74 [==============================] - 3s 37ms/step - loss: 0.0012 - accuracy: 0.0000e+00 - val_loss: 0.0013 - val_accuracy: 0.0000e+00\n",
            "Epoch 26/40\n",
            "74/74 [==============================] - 3s 37ms/step - loss: 0.0016 - accuracy: 0.0000e+00 - val_loss: 0.0012 - val_accuracy: 0.0000e+00\n",
            "Epoch 27/40\n",
            "74/74 [==============================] - 3s 45ms/step - loss: 0.0013 - accuracy: 0.0000e+00 - val_loss: 0.0027 - val_accuracy: 0.0000e+00\n",
            "Epoch 28/40\n",
            "74/74 [==============================] - 4s 55ms/step - loss: 0.0015 - accuracy: 0.0000e+00 - val_loss: 0.0010 - val_accuracy: 0.0000e+00\n",
            "Epoch 29/40\n",
            "74/74 [==============================] - 3s 36ms/step - loss: 0.0011 - accuracy: 0.0000e+00 - val_loss: 0.0012 - val_accuracy: 0.0000e+00\n",
            "Epoch 30/40\n",
            "74/74 [==============================] - 3s 36ms/step - loss: 0.0011 - accuracy: 0.0000e+00 - val_loss: 9.1928e-04 - val_accuracy: 0.0000e+00\n",
            "Epoch 31/40\n",
            "74/74 [==============================] - 3s 37ms/step - loss: 0.0011 - accuracy: 0.0000e+00 - val_loss: 0.0011 - val_accuracy: 0.0000e+00\n",
            "Epoch 32/40\n",
            "74/74 [==============================] - 4s 52ms/step - loss: 0.0012 - accuracy: 0.0000e+00 - val_loss: 8.5316e-04 - val_accuracy: 0.0000e+00\n",
            "Epoch 33/40\n",
            "74/74 [==============================] - 3s 45ms/step - loss: 0.0011 - accuracy: 0.0000e+00 - val_loss: 8.1412e-04 - val_accuracy: 0.0000e+00\n",
            "Epoch 34/40\n",
            "74/74 [==============================] - 3s 39ms/step - loss: 0.0011 - accuracy: 0.0000e+00 - val_loss: 0.0010 - val_accuracy: 0.0000e+00\n",
            "Epoch 35/40\n",
            "74/74 [==============================] - 3s 37ms/step - loss: 9.7017e-04 - accuracy: 0.0000e+00 - val_loss: 7.9775e-04 - val_accuracy: 0.0000e+00\n",
            "Epoch 36/40\n",
            "74/74 [==============================] - 4s 55ms/step - loss: 0.0011 - accuracy: 0.0000e+00 - val_loss: 7.5344e-04 - val_accuracy: 0.0000e+00\n",
            "Epoch 37/40\n",
            "74/74 [==============================] - 3s 38ms/step - loss: 0.0011 - accuracy: 0.0000e+00 - val_loss: 8.2063e-04 - val_accuracy: 0.0000e+00\n",
            "Epoch 38/40\n",
            "74/74 [==============================] - 3s 38ms/step - loss: 9.9645e-04 - accuracy: 0.0000e+00 - val_loss: 8.7409e-04 - val_accuracy: 0.0000e+00\n",
            "Epoch 39/40\n",
            "74/74 [==============================] - 3s 37ms/step - loss: 0.0010 - accuracy: 0.0000e+00 - val_loss: 7.0522e-04 - val_accuracy: 0.0000e+00\n",
            "Epoch 40/40\n",
            "74/74 [==============================] - 4s 50ms/step - loss: 0.0011 - accuracy: 0.0000e+00 - val_loss: 0.0025 - val_accuracy: 0.0000e+00\n"
          ]
        },
        {
          "output_type": "execute_result",
          "data": {
            "text/plain": [
              "<keras.src.callbacks.History at 0x78a23ec46a10>"
            ]
          },
          "metadata": {},
          "execution_count": 18
        }
      ],
      "source": [
        "model = RNNmodel(out_shape=1, seq_len=seq_len, n_feature=1)\n",
        "model.summary()\n",
        "model.fit(x_trn, y_trn, epochs=40, validation_data=(x_val, y_val))\n"
      ]
    },
    {
      "cell_type": "markdown",
      "id": "90a5d1ce",
      "metadata": {
        "papermill": {
          "duration": 0.109939,
          "end_time": "2022-12-05T10:50:25.285200",
          "exception": false,
          "start_time": "2022-12-05T10:50:25.175261",
          "status": "completed"
        },
        "tags": [],
        "id": "90a5d1ce"
      },
      "source": [
        "plot train data and prediction simultaneously"
      ]
    },
    {
      "cell_type": "code",
      "execution_count": 19,
      "id": "7457dff1",
      "metadata": {
        "execution": {
          "iopub.execute_input": "2022-12-05T10:50:25.504975Z",
          "iopub.status.busy": "2022-12-05T10:50:25.503514Z",
          "iopub.status.idle": "2022-12-05T10:50:26.566325Z",
          "shell.execute_reply": "2022-12-05T10:50:26.564941Z"
        },
        "papermill": {
          "duration": 1.175911,
          "end_time": "2022-12-05T10:50:26.569106",
          "exception": false,
          "start_time": "2022-12-05T10:50:25.393195",
          "status": "completed"
        },
        "tags": [],
        "colab": {
          "base_uri": "https://localhost:8080/",
          "height": 448
        },
        "id": "7457dff1",
        "outputId": "f493ad5b-4f26-4f36-90ba-be251fc668ba"
      },
      "outputs": [
        {
          "output_type": "stream",
          "name": "stdout",
          "text": [
            "22/22 [==============================] - 1s 13ms/step\n"
          ]
        },
        {
          "output_type": "display_data",
          "data": {
            "text/plain": [
              "<Figure size 640x480 with 1 Axes>"
            ],
            "image/png": "[encoded data removed]"
          },
          "metadata": {}
        }
      ],
      "source": [
        "pred = model.predict(x_tst)\n",
        "pred_df = pd.DataFrame(pred, index=y.index[+trn_size+val_size:])\n",
        "plt.plot(y)\n",
        "plt.plot(pred_df)\n",
        "plt.show()"
      ]
    },
    {
      "cell_type": "code",
      "source": [],
      "metadata": {
        "id": "HDfLaS99Ttiz"
      },
      "id": "HDfLaS99Ttiz",
      "execution_count": null,
      "outputs": []
    }
  ],
  "metadata": {
    "kernelspec": {
      "display_name": "Python 3",
      "language": "python",
      "name": "python3"
    },
    "language_info": {
      "codemirror_mode": {
        "name": "ipython",
        "version": 3
      },
      "file_extension": ".py",
      "mimetype": "text/x-python",
      "name": "python",
      "nbconvert_exporter": "python",
      "pygments_lexer": "ipython3",
      "version": "3.7.12"
    },
    "papermill": {
      "default_parameters": {},
      "duration": 188.022732,
      "end_time": "2022-12-05T10:50:29.617981",
      "environment_variables": {},
      "exception": null,
      "input_path": "__notebook__.ipynb",
      "output_path": "__notebook__.ipynb",
      "parameters": {},
      "start_time": "2022-12-05T10:47:21.595249",
      "version": "2.3.4"
    },
    "colab": {
      "provenance": []
    }
  },
  "nbformat": 4,
  "nbformat_minor": 5
}