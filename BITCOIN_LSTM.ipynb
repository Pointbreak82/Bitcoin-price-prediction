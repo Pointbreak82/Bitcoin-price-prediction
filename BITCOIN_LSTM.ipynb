{
  "cells": [
    {
      "cell_type": "markdown",
      "metadata": {
        "id": "view-in-github",
        "colab_type": "text"
      },
      "source": [
        "<a href=\"https://colab.research.google.com/github/Pointbreak82/Bitcoin-price-prediction/blob/main/BITCOIN_LSTM.ipynb\" target=\"_parent\"><img src=\"https://colab.research.google.com/assets/colab-badge.svg\" alt=\"Open In Colab\"/></a>"
      ]
    },
    {
      "cell_type": "code",
      "source": [
        "!pip install kaggle\n",
        "!mkdir -p ~/.kaggle\n",
        "!mv kaggle.json ~/.kaggle/\n",
        "!chmod 600 ~/.kaggle/kaggle.json\n",
        "!kaggle datasets download -d mczielinski/bitcoin-historical-data\n"
      ],
      "metadata": {
        "colab": {
          "base_uri": "https://localhost:8080/"
        },
        "id": "k2o3qVQLWBqZ",
        "outputId": "ce5cb51b-16a4-466a-9cb8-7c98e7ae7e6c"
      },
      "id": "k2o3qVQLWBqZ",
      "execution_count": null,
      "outputs": [
        {
          "output_type": "stream",
          "name": "stdout",
          "text": [
            "Downloading bitcoin-historical-data.zip to /content\n",
            " 89% 89.0M/100M [00:00<00:00, 120MB/s]\n",
            "100% 100M/100M [00:00<00:00, 135MB/s] \n"
          ]
        }
      ]
    },
    {
      "cell_type": "code",
      "source": [
        "import os\n",
        "import zipfile\n",
        "from tqdm import tqdm\n",
        "\n",
        "\n",
        "zip_file_name = 'bitcoin-historical-data.zip'\n",
        "\n",
        "\n",
        "target_directory = '/content'\n",
        "\n",
        "\n",
        "os.makedirs(target_directory, exist_ok=True)\n",
        "\n",
        "\n",
        "with zipfile.ZipFile(zip_file_name, 'r') as zip_ref:\n",
        "    total_files = len(zip_ref.infolist())\n",
        "\n",
        "\n",
        "with zipfile.ZipFile(zip_file_name, 'r') as zip_ref:\n",
        "    for file_info in tqdm(zip_ref.infolist(), desc=\"Extracting\", unit=\" files\", ncols=100):\n",
        "        zip_ref.extract(file_info, target_directory)\n"
      ],
      "metadata": {
        "colab": {
          "base_uri": "https://localhost:8080/"
        },
        "id": "4Uwg9sZmWGT1",
        "outputId": "8254cddc-c49f-4fbb-9891-637212fa49b9"
      },
      "id": "4Uwg9sZmWGT1",
      "execution_count": null,
      "outputs": [
        {
          "output_type": "stream",
          "name": "stderr",
          "text": [
            "Extracting: 100%|█████████████████████████████████████████████████| 1/1 [00:03<00:00,  3.03s/ files]\n"
          ]
        }
      ]
    },
    {
      "cell_type": "code",
      "execution_count": null,
      "id": "fb2213e2",
      "metadata": {
        "execution": {
          "iopub.execute_input": "2022-07-05T00:54:17.434719Z",
          "iopub.status.busy": "2022-07-05T00:54:17.433944Z",
          "iopub.status.idle": "2022-07-05T00:54:29.009333Z",
          "shell.execute_reply": "2022-07-05T00:54:29.008089Z"
        },
        "id": "fb2213e2",
        "papermill": {
          "duration": 11.590508,
          "end_time": "2022-07-05T00:54:29.012405",
          "exception": false,
          "start_time": "2022-07-05T00:54:17.421897",
          "status": "completed"
        },
        "tags": []
      },
      "outputs": [],
      "source": [
        "from sklearn.metrics import mean_absolute_error, mean_squared_error, r2_score\n",
        "from sklearn.preprocessing import MinMaxScaler\n",
        "from keras.layers import Dense , LSTM , Dropout , Bidirectional\n",
        "from keras.models import Sequential\n",
        "from datetime import datetime\n",
        "from numpy import sqrt\n",
        "import matplotlib.pyplot as plt\n",
        "import missingno as msno\n",
        "import warnings\n",
        "\n",
        "import pandas as pd\n",
        "import numpy as np\n",
        "import seaborn as sns\n",
        "\n",
        "warnings.filterwarnings('ignore')\n",
        "%matplotlib inline\n"
      ]
    },
    {
      "cell_type": "code",
      "execution_count": null,
      "id": "eeae041f",
      "metadata": {
        "execution": {
          "iopub.execute_input": "2022-07-05T00:54:29.036099Z",
          "iopub.status.busy": "2022-07-05T00:54:29.035020Z",
          "iopub.status.idle": "2022-07-05T00:54:37.045745Z",
          "shell.execute_reply": "2022-07-05T00:54:37.044342Z"
        },
        "id": "eeae041f",
        "papermill": {
          "duration": 8.025257,
          "end_time": "2022-07-05T00:54:37.048413",
          "exception": false,
          "start_time": "2022-07-05T00:54:29.023156",
          "status": "completed"
        },
        "tags": [],
        "colab": {
          "base_uri": "https://localhost:8080/",
          "height": 206
        },
        "outputId": "51a1f8af-d088-42ce-c1a5-fe1b76a8805e"
      },
      "outputs": [
        {
          "output_type": "execute_result",
          "data": {
            "text/plain": [
              "    Timestamp  Open  High   Low  Close  Volume_(BTC)  Volume_(Currency)  \\\n",
              "0  1325317920  4.39  4.39  4.39   4.39      0.455581                2.0   \n",
              "1  1325317980   NaN   NaN   NaN    NaN           NaN                NaN   \n",
              "2  1325318040   NaN   NaN   NaN    NaN           NaN                NaN   \n",
              "3  1325318100   NaN   NaN   NaN    NaN           NaN                NaN   \n",
              "4  1325318160   NaN   NaN   NaN    NaN           NaN                NaN   \n",
              "\n",
              "   Weighted_Price  \n",
              "0            4.39  \n",
              "1             NaN  \n",
              "2             NaN  \n",
              "3             NaN  \n",
              "4             NaN  "
            ],
            "text/html": [
              "\n",
              "  <div id=\"df-180a87e2-f106-42db-868d-fda957c0b80c\" class=\"colab-df-container\">\n",
              "    <div>\n",
              "<style scoped>\n",
              "    .dataframe tbody tr th:only-of-type {\n",
              "        vertical-align: middle;\n",
              "    }\n",
              "\n",
              "    .dataframe tbody tr th {\n",
              "        vertical-align: top;\n",
              "    }\n",
              "\n",
              "    .dataframe thead th {\n",
              "        text-align: right;\n",
              "    }\n",
              "</style>\n",
              "<table border=\"1\" class=\"dataframe\">\n",
              "  <thead>\n",
              "    <tr style=\"text-align: right;\">\n",
              "      <th></th>\n",
              "      <th>Timestamp</th>\n",
              "      <th>Open</th>\n",
              "      <th>High</th>\n",
              "      <th>Low</th>\n",
              "      <th>Close</th>\n",
              "      <th>Volume_(BTC)</th>\n",
              "      <th>Volume_(Currency)</th>\n",
              "      <th>Weighted_Price</th>\n",
              "    </tr>\n",
              "  </thead>\n",
              "  <tbody>\n",
              "    <tr>\n",
              "      <th>0</th>\n",
              "      <td>1325317920</td>\n",
              "      <td>4.39</td>\n",
              "      <td>4.39</td>\n",
              "      <td>4.39</td>\n",
              "      <td>4.39</td>\n",
              "      <td>0.455581</td>\n",
              "      <td>2.0</td>\n",
              "      <td>4.39</td>\n",
              "    </tr>\n",
              "    <tr>\n",
              "      <th>1</th>\n",
              "      <td>1325317980</td>\n",
              "      <td>NaN</td>\n",
              "      <td>NaN</td>\n",
              "      <td>NaN</td>\n",
              "      <td>NaN</td>\n",
              "      <td>NaN</td>\n",
              "      <td>NaN</td>\n",
              "      <td>NaN</td>\n",
              "    </tr>\n",
              "    <tr>\n",
              "      <th>2</th>\n",
              "      <td>1325318040</td>\n",
              "      <td>NaN</td>\n",
              "      <td>NaN</td>\n",
              "      <td>NaN</td>\n",
              "      <td>NaN</td>\n",
              "      <td>NaN</td>\n",
              "      <td>NaN</td>\n",
              "      <td>NaN</td>\n",
              "    </tr>\n",
              "    <tr>\n",
              "      <th>3</th>\n",
              "      <td>1325318100</td>\n",
              "      <td>NaN</td>\n",
              "      <td>NaN</td>\n",
              "      <td>NaN</td>\n",
              "      <td>NaN</td>\n",
              "      <td>NaN</td>\n",
              "      <td>NaN</td>\n",
              "      <td>NaN</td>\n",
              "    </tr>\n",
              "    <tr>\n",
              "      <th>4</th>\n",
              "      <td>1325318160</td>\n",
              "      <td>NaN</td>\n",
              "      <td>NaN</td>\n",
              "      <td>NaN</td>\n",
              "      <td>NaN</td>\n",
              "      <td>NaN</td>\n",
              "      <td>NaN</td>\n",
              "      <td>NaN</td>\n",
              "    </tr>\n",
              "  </tbody>\n",
              "</table>\n",
              "</div>\n",
              "    <div class=\"colab-df-buttons\">\n",
              "\n",
              "  <div class=\"colab-df-container\">\n",
              "    <button class=\"colab-df-convert\" onclick=\"convertToInteractive('df-180a87e2-f106-42db-868d-fda957c0b80c')\"\n",
              "            title=\"Convert this dataframe to an interactive table.\"\n",
              "            style=\"display:none;\">\n",
              "\n",
              "  <svg xmlns=\"http://www.w3.org/2000/svg\" height=\"24px\" viewBox=\"0 -960 960 960\">\n",
              "    <path d=\"M120-120v-720h720v720H120Zm60-500h600v-160H180v160Zm220 220h160v-160H400v160Zm0 220h160v-160H400v160ZM180-400h160v-160H180v160Zm440 0h160v-160H620v160ZM180-180h160v-160H180v160Zm440 0h160v-160H620v160Z\"/>\n",
              "  </svg>\n",
              "    </button>\n",
              "\n",
              "  <style>\n",
              "    .colab-df-container {\n",
              "      display:flex;\n",
              "      gap: 12px;\n",
              "    }\n",
              "\n",
              "    .colab-df-convert {\n",
              "      background-color: #E8F0FE;\n",
              "      border: none;\n",
              "      border-radius: 50%;\n",
              "      cursor: pointer;\n",
              "      display: none;\n",
              "      fill: #1967D2;\n",
              "      height: 32px;\n",
              "      padding: 0 0 0 0;\n",
              "      width: 32px;\n",
              "    }\n",
              "\n",
              "    .colab-df-convert:hover {\n",
              "      background-color: #E2EBFA;\n",
              "      box-shadow: 0px 1px 2px rgba(60, 64, 67, 0.3), 0px 1px 3px 1px rgba(60, 64, 67, 0.15);\n",
              "      fill: #174EA6;\n",
              "    }\n",
              "\n",
              "    .colab-df-buttons div {\n",
              "      margin-bottom: 4px;\n",
              "    }\n",
              "\n",
              "    [theme=dark] .colab-df-convert {\n",
              "      background-color: #3B4455;\n",
              "      fill: #D2E3FC;\n",
              "    }\n",
              "\n",
              "    [theme=dark] .colab-df-convert:hover {\n",
              "      background-color: #434B5C;\n",
              "      box-shadow: 0px 1px 3px 1px rgba(0, 0, 0, 0.15);\n",
              "      filter: drop-shadow(0px 1px 2px rgba(0, 0, 0, 0.3));\n",
              "      fill: #FFFFFF;\n",
              "    }\n",
              "  </style>\n",
              "\n",
              "    <script>\n",
              "      const buttonEl =\n",
              "        document.querySelector('#df-180a87e2-f106-42db-868d-fda957c0b80c button.colab-df-convert');\n",
              "      buttonEl.style.display =\n",
              "        google.colab.kernel.accessAllowed ? 'block' : 'none';\n",
              "\n",
              "      async function convertToInteractive(key) {\n",
              "        const element = document.querySelector('#df-180a87e2-f106-42db-868d-fda957c0b80c');\n",
              "        const dataTable =\n",
              "          await google.colab.kernel.invokeFunction('convertToInteractive',\n",
              "                                                    [key], {});\n",
              "        if (!dataTable) return;\n",
              "\n",
              "        const docLinkHtml = 'Like what you see? Visit the ' +\n",
              "          '<a target=\"_blank\" href=https://colab.research.google.com/notebooks/data_table.ipynb>data table notebook</a>'\n",
              "          + ' to learn more about interactive tables.';\n",
              "        element.innerHTML = '';\n",
              "        dataTable['output_type'] = 'display_data';\n",
              "        await google.colab.output.renderOutput(dataTable, element);\n",
              "        const docLink = document.createElement('div');\n",
              "        docLink.innerHTML = docLinkHtml;\n",
              "        element.appendChild(docLink);\n",
              "      }\n",
              "    </script>\n",
              "  </div>\n",
              "\n",
              "\n",
              "<div id=\"df-5c42e6ec-7708-423a-810a-ab4bbed34e2d\">\n",
              "  <button class=\"colab-df-quickchart\" onclick=\"quickchart('df-5c42e6ec-7708-423a-810a-ab4bbed34e2d')\"\n",
              "            title=\"Suggest charts.\"\n",
              "            style=\"display:none;\">\n",
              "\n",
              "<svg xmlns=\"http://www.w3.org/2000/svg\" height=\"24px\"viewBox=\"0 0 24 24\"\n",
              "     width=\"24px\">\n",
              "    <g>\n",
              "        <path d=\"M19 3H5c-1.1 0-2 .9-2 2v14c0 1.1.9 2 2 2h14c1.1 0 2-.9 2-2V5c0-1.1-.9-2-2-2zM9 17H7v-7h2v7zm4 0h-2V7h2v10zm4 0h-2v-4h2v4z\"/>\n",
              "    </g>\n",
              "</svg>\n",
              "  </button>\n",
              "\n",
              "<style>\n",
              "  .colab-df-quickchart {\n",
              "      --bg-color: #E8F0FE;\n",
              "      --fill-color: #1967D2;\n",
              "      --hover-bg-color: #E2EBFA;\n",
              "      --hover-fill-color: #174EA6;\n",
              "      --disabled-fill-color: #AAA;\n",
              "      --disabled-bg-color: #DDD;\n",
              "  }\n",
              "\n",
              "  [theme=dark] .colab-df-quickchart {\n",
              "      --bg-color: #3B4455;\n",
              "      --fill-color: #D2E3FC;\n",
              "      --hover-bg-color: #434B5C;\n",
              "      --hover-fill-color: #FFFFFF;\n",
              "      --disabled-bg-color: #3B4455;\n",
              "      --disabled-fill-color: #666;\n",
              "  }\n",
              "\n",
              "  .colab-df-quickchart {\n",
              "    background-color: var(--bg-color);\n",
              "    border: none;\n",
              "    border-radius: 50%;\n",
              "    cursor: pointer;\n",
              "    display: none;\n",
              "    fill: var(--fill-color);\n",
              "    height: 32px;\n",
              "    padding: 0;\n",
              "    width: 32px;\n",
              "  }\n",
              "\n",
              "  .colab-df-quickchart:hover {\n",
              "    background-color: var(--hover-bg-color);\n",
              "    box-shadow: 0 1px 2px rgba(60, 64, 67, 0.3), 0 1px 3px 1px rgba(60, 64, 67, 0.15);\n",
              "    fill: var(--button-hover-fill-color);\n",
              "  }\n",
              "\n",
              "  .colab-df-quickchart-complete:disabled,\n",
              "  .colab-df-quickchart-complete:disabled:hover {\n",
              "    background-color: var(--disabled-bg-color);\n",
              "    fill: var(--disabled-fill-color);\n",
              "    box-shadow: none;\n",
              "  }\n",
              "\n",
              "  .colab-df-spinner {\n",
              "    border: 2px solid var(--fill-color);\n",
              "    border-color: transparent;\n",
              "    border-bottom-color: var(--fill-color);\n",
              "    animation:\n",
              "      spin 1s steps(1) infinite;\n",
              "  }\n",
              "\n",
              "  @keyframes spin {\n",
              "    0% {\n",
              "      border-color: transparent;\n",
              "      border-bottom-color: var(--fill-color);\n",
              "      border-left-color: var(--fill-color);\n",
              "    }\n",
              "    20% {\n",
              "      border-color: transparent;\n",
              "      border-left-color: var(--fill-color);\n",
              "      border-top-color: var(--fill-color);\n",
              "    }\n",
              "    30% {\n",
              "      border-color: transparent;\n",
              "      border-left-color: var(--fill-color);\n",
              "      border-top-color: var(--fill-color);\n",
              "      border-right-color: var(--fill-color);\n",
              "    }\n",
              "    40% {\n",
              "      border-color: transparent;\n",
              "      border-right-color: var(--fill-color);\n",
              "      border-top-color: var(--fill-color);\n",
              "    }\n",
              "    60% {\n",
              "      border-color: transparent;\n",
              "      border-right-color: var(--fill-color);\n",
              "    }\n",
              "    80% {\n",
              "      border-color: transparent;\n",
              "      border-right-color: var(--fill-color);\n",
              "      border-bottom-color: var(--fill-color);\n",
              "    }\n",
              "    90% {\n",
              "      border-color: transparent;\n",
              "      border-bottom-color: var(--fill-color);\n",
              "    }\n",
              "  }\n",
              "</style>\n",
              "\n",
              "  <script>\n",
              "    async function quickchart(key) {\n",
              "      const quickchartButtonEl =\n",
              "        document.querySelector('#' + key + ' button');\n",
              "      quickchartButtonEl.disabled = true;  // To prevent multiple clicks.\n",
              "      quickchartButtonEl.classList.add('colab-df-spinner');\n",
              "      try {\n",
              "        const charts = await google.colab.kernel.invokeFunction(\n",
              "            'suggestCharts', [key], {});\n",
              "      } catch (error) {\n",
              "        console.error('Error during call to suggestCharts:', error);\n",
              "      }\n",
              "      quickchartButtonEl.classList.remove('colab-df-spinner');\n",
              "      quickchartButtonEl.classList.add('colab-df-quickchart-complete');\n",
              "    }\n",
              "    (() => {\n",
              "      let quickchartButtonEl =\n",
              "        document.querySelector('#df-5c42e6ec-7708-423a-810a-ab4bbed34e2d button');\n",
              "      quickchartButtonEl.style.display =\n",
              "        google.colab.kernel.accessAllowed ? 'block' : 'none';\n",
              "    })();\n",
              "  </script>\n",
              "</div>\n",
              "    </div>\n",
              "  </div>\n"
            ]
          },
          "metadata": {},
          "execution_count": 5
        }
      ],
      "source": [
        "#import dataset\n",
        "data = pd.read_csv('bitstampUSD_1-min_data_2012-01-01_to_2021-03-31.csv')\n",
        "data.head()"
      ]
    },
    {
      "cell_type": "code",
      "execution_count": null,
      "id": "ee7de644",
      "metadata": {
        "execution": {
          "iopub.execute_input": "2022-07-05T00:54:37.093685Z",
          "iopub.status.busy": "2022-07-05T00:54:37.093283Z",
          "iopub.status.idle": "2022-07-05T00:54:37.118947Z",
          "shell.execute_reply": "2022-07-05T00:54:37.117820Z"
        },
        "id": "ee7de644",
        "outputId": "248bdc7b-ac51-43c0-cf03-45f20fe76e16",
        "papermill": {
          "duration": 0.0416,
          "end_time": "2022-07-05T00:54:37.122616",
          "exception": false,
          "start_time": "2022-07-05T00:54:37.081016",
          "status": "completed"
        },
        "tags": [],
        "colab": {
          "base_uri": "https://localhost:8080/"
        }
      },
      "outputs": [
        {
          "output_type": "stream",
          "name": "stdout",
          "text": [
            "<class 'pandas.core.frame.DataFrame'>\n",
            "RangeIndex: 4857377 entries, 0 to 4857376\n",
            "Data columns (total 8 columns):\n",
            " #   Column             Dtype  \n",
            "---  ------             -----  \n",
            " 0   Timestamp          int64  \n",
            " 1   Open               float64\n",
            " 2   High               float64\n",
            " 3   Low                float64\n",
            " 4   Close              float64\n",
            " 5   Volume_(BTC)       float64\n",
            " 6   Volume_(Currency)  float64\n",
            " 7   Weighted_Price     float64\n",
            "dtypes: float64(7), int64(1)\n",
            "memory usage: 296.5 MB\n"
          ]
        }
      ],
      "source": [
        "data.info()"
      ]
    },
    {
      "cell_type": "code",
      "execution_count": null,
      "id": "2d4f9f22",
      "metadata": {
        "execution": {
          "iopub.execute_input": "2022-07-05T00:54:37.145895Z",
          "iopub.status.busy": "2022-07-05T00:54:37.145477Z",
          "iopub.status.idle": "2022-07-05T00:54:40.450031Z",
          "shell.execute_reply": "2022-07-05T00:54:40.449241Z"
        },
        "id": "2d4f9f22",
        "outputId": "246fc111-4270-4609-eb3f-3138975f5f92",
        "papermill": {
          "duration": 3.318558,
          "end_time": "2022-07-05T00:54:40.452048",
          "exception": false,
          "start_time": "2022-07-05T00:54:37.133490",
          "status": "completed"
        },
        "tags": [],
        "colab": {
          "base_uri": "https://localhost:8080/",
          "height": 300
        }
      },
      "outputs": [
        {
          "output_type": "execute_result",
          "data": {
            "text/plain": [
              "          Timestamp          Open          High           Low         Close  \\\n",
              "count  4.857377e+06  3.613769e+06  3.613769e+06  3.613769e+06  3.613769e+06   \n",
              "mean   1.471301e+09  6.009024e+03  6.013357e+03  6.004488e+03  6.009014e+03   \n",
              "std    8.428019e+07  8.996247e+03  9.003521e+03  8.988778e+03  8.996360e+03   \n",
              "min    1.325318e+09  3.800000e+00  3.800000e+00  1.500000e+00  1.500000e+00   \n",
              "25%    1.398179e+09  4.438600e+02  4.440000e+02  4.435200e+02  4.438600e+02   \n",
              "50%    1.471428e+09  3.596970e+03  3.598190e+03  3.595620e+03  3.597000e+03   \n",
              "75%    1.544288e+09  8.627270e+03  8.632980e+03  8.621090e+03  8.627160e+03   \n",
              "max    1.617149e+09  6.176356e+04  6.178183e+04  6.167355e+04  6.178180e+04   \n",
              "\n",
              "       Volume_(BTC)  Volume_(Currency)  Weighted_Price  \n",
              "count  3.613769e+06       3.613769e+06    3.613769e+06  \n",
              "mean   9.323249e+00       4.176284e+04    6.008935e+03  \n",
              "std    3.054989e+01       1.518248e+05    8.995992e+03  \n",
              "min    0.000000e+00       0.000000e+00    3.800000e+00  \n",
              "25%    4.097759e-01       4.521422e+02    4.438306e+02  \n",
              "50%    1.979811e+00       3.810124e+03    3.596804e+03  \n",
              "75%    7.278216e+00       2.569821e+04    8.627637e+03  \n",
              "max    5.853852e+03       1.390067e+07    6.171621e+04  "
            ],
            "text/html": [
              "\n",
              "  <div id=\"df-e5103781-e4e5-4f40-aa86-6128eea7f811\" class=\"colab-df-container\">\n",
              "    <div>\n",
              "<style scoped>\n",
              "    .dataframe tbody tr th:only-of-type {\n",
              "        vertical-align: middle;\n",
              "    }\n",
              "\n",
              "    .dataframe tbody tr th {\n",
              "        vertical-align: top;\n",
              "    }\n",
              "\n",
              "    .dataframe thead th {\n",
              "        text-align: right;\n",
              "    }\n",
              "</style>\n",
              "<table border=\"1\" class=\"dataframe\">\n",
              "  <thead>\n",
              "    <tr style=\"text-align: right;\">\n",
              "      <th></th>\n",
              "      <th>Timestamp</th>\n",
              "      <th>Open</th>\n",
              "      <th>High</th>\n",
              "      <th>Low</th>\n",
              "      <th>Close</th>\n",
              "      <th>Volume_(BTC)</th>\n",
              "      <th>Volume_(Currency)</th>\n",
              "      <th>Weighted_Price</th>\n",
              "    </tr>\n",
              "  </thead>\n",
              "  <tbody>\n",
              "    <tr>\n",
              "      <th>count</th>\n",
              "      <td>4.857377e+06</td>\n",
              "      <td>3.613769e+06</td>\n",
              "      <td>3.613769e+06</td>\n",
              "      <td>3.613769e+06</td>\n",
              "      <td>3.613769e+06</td>\n",
              "      <td>3.613769e+06</td>\n",
              "      <td>3.613769e+06</td>\n",
              "      <td>3.613769e+06</td>\n",
              "    </tr>\n",
              "    <tr>\n",
              "      <th>mean</th>\n",
              "      <td>1.471301e+09</td>\n",
              "      <td>6.009024e+03</td>\n",
              "      <td>6.013357e+03</td>\n",
              "      <td>6.004488e+03</td>\n",
              "      <td>6.009014e+03</td>\n",
              "      <td>9.323249e+00</td>\n",
              "      <td>4.176284e+04</td>\n",
              "      <td>6.008935e+03</td>\n",
              "    </tr>\n",
              "    <tr>\n",
              "      <th>std</th>\n",
              "      <td>8.428019e+07</td>\n",
              "      <td>8.996247e+03</td>\n",
              "      <td>9.003521e+03</td>\n",
              "      <td>8.988778e+03</td>\n",
              "      <td>8.996360e+03</td>\n",
              "      <td>3.054989e+01</td>\n",
              "      <td>1.518248e+05</td>\n",
              "      <td>8.995992e+03</td>\n",
              "    </tr>\n",
              "    <tr>\n",
              "      <th>min</th>\n",
              "      <td>1.325318e+09</td>\n",
              "      <td>3.800000e+00</td>\n",
              "      <td>3.800000e+00</td>\n",
              "      <td>1.500000e+00</td>\n",
              "      <td>1.500000e+00</td>\n",
              "      <td>0.000000e+00</td>\n",
              "      <td>0.000000e+00</td>\n",
              "      <td>3.800000e+00</td>\n",
              "    </tr>\n",
              "    <tr>\n",
              "      <th>25%</th>\n",
              "      <td>1.398179e+09</td>\n",
              "      <td>4.438600e+02</td>\n",
              "      <td>4.440000e+02</td>\n",
              "      <td>4.435200e+02</td>\n",
              "      <td>4.438600e+02</td>\n",
              "      <td>4.097759e-01</td>\n",
              "      <td>4.521422e+02</td>\n",
              "      <td>4.438306e+02</td>\n",
              "    </tr>\n",
              "    <tr>\n",
              "      <th>50%</th>\n",
              "      <td>1.471428e+09</td>\n",
              "      <td>3.596970e+03</td>\n",
              "      <td>3.598190e+03</td>\n",
              "      <td>3.595620e+03</td>\n",
              "      <td>3.597000e+03</td>\n",
              "      <td>1.979811e+00</td>\n",
              "      <td>3.810124e+03</td>\n",
              "      <td>3.596804e+03</td>\n",
              "    </tr>\n",
              "    <tr>\n",
              "      <th>75%</th>\n",
              "      <td>1.544288e+09</td>\n",
              "      <td>8.627270e+03</td>\n",
              "      <td>8.632980e+03</td>\n",
              "      <td>8.621090e+03</td>\n",
              "      <td>8.627160e+03</td>\n",
              "      <td>7.278216e+00</td>\n",
              "      <td>2.569821e+04</td>\n",
              "      <td>8.627637e+03</td>\n",
              "    </tr>\n",
              "    <tr>\n",
              "      <th>max</th>\n",
              "      <td>1.617149e+09</td>\n",
              "      <td>6.176356e+04</td>\n",
              "      <td>6.178183e+04</td>\n",
              "      <td>6.167355e+04</td>\n",
              "      <td>6.178180e+04</td>\n",
              "      <td>5.853852e+03</td>\n",
              "      <td>1.390067e+07</td>\n",
              "      <td>6.171621e+04</td>\n",
              "    </tr>\n",
              "  </tbody>\n",
              "</table>\n",
              "</div>\n",
              "    <div class=\"colab-df-buttons\">\n",
              "\n",
              "  <div class=\"colab-df-container\">\n",
              "    <button class=\"colab-df-convert\" onclick=\"convertToInteractive('df-e5103781-e4e5-4f40-aa86-6128eea7f811')\"\n",
              "            title=\"Convert this dataframe to an interactive table.\"\n",
              "            style=\"display:none;\">\n",
              "\n",
              "  <svg xmlns=\"http://www.w3.org/2000/svg\" height=\"24px\" viewBox=\"0 -960 960 960\">\n",
              "    <path d=\"M120-120v-720h720v720H120Zm60-500h600v-160H180v160Zm220 220h160v-160H400v160Zm0 220h160v-160H400v160ZM180-400h160v-160H180v160Zm440 0h160v-160H620v160ZM180-180h160v-160H180v160Zm440 0h160v-160H620v160Z\"/>\n",
              "  </svg>\n",
              "    </button>\n",
              "\n",
              "  <style>\n",
              "    .colab-df-container {\n",
              "      display:flex;\n",
              "      gap: 12px;\n",
              "    }\n",
              "\n",
              "    .colab-df-convert {\n",
              "      background-color: #E8F0FE;\n",
              "      border: none;\n",
              "      border-radius: 50%;\n",
              "      cursor: pointer;\n",
              "      display: none;\n",
              "      fill: #1967D2;\n",
              "      height: 32px;\n",
              "      padding: 0 0 0 0;\n",
              "      width: 32px;\n",
              "    }\n",
              "\n",
              "    .colab-df-convert:hover {\n",
              "      background-color: #E2EBFA;\n",
              "      box-shadow: 0px 1px 2px rgba(60, 64, 67, 0.3), 0px 1px 3px 1px rgba(60, 64, 67, 0.15);\n",
              "      fill: #174EA6;\n",
              "    }\n",
              "\n",
              "    .colab-df-buttons div {\n",
              "      margin-bottom: 4px;\n",
              "    }\n",
              "\n",
              "    [theme=dark] .colab-df-convert {\n",
              "      background-color: #3B4455;\n",
              "      fill: #D2E3FC;\n",
              "    }\n",
              "\n",
              "    [theme=dark] .colab-df-convert:hover {\n",
              "      background-color: #434B5C;\n",
              "      box-shadow: 0px 1px 3px 1px rgba(0, 0, 0, 0.15);\n",
              "      filter: drop-shadow(0px 1px 2px rgba(0, 0, 0, 0.3));\n",
              "      fill: #FFFFFF;\n",
              "    }\n",
              "  </style>\n",
              "\n",
              "    <script>\n",
              "      const buttonEl =\n",
              "        document.querySelector('#df-e5103781-e4e5-4f40-aa86-6128eea7f811 button.colab-df-convert');\n",
              "      buttonEl.style.display =\n",
              "        google.colab.kernel.accessAllowed ? 'block' : 'none';\n",
              "\n",
              "      async function convertToInteractive(key) {\n",
              "        const element = document.querySelector('#df-e5103781-e4e5-4f40-aa86-6128eea7f811');\n",
              "        const dataTable =\n",
              "          await google.colab.kernel.invokeFunction('convertToInteractive',\n",
              "                                                    [key], {});\n",
              "        if (!dataTable) return;\n",
              "\n",
              "        const docLinkHtml = 'Like what you see? Visit the ' +\n",
              "          '<a target=\"_blank\" href=https://colab.research.google.com/notebooks/data_table.ipynb>data table notebook</a>'\n",
              "          + ' to learn more about interactive tables.';\n",
              "        element.innerHTML = '';\n",
              "        dataTable['output_type'] = 'display_data';\n",
              "        await google.colab.output.renderOutput(dataTable, element);\n",
              "        const docLink = document.createElement('div');\n",
              "        docLink.innerHTML = docLinkHtml;\n",
              "        element.appendChild(docLink);\n",
              "      }\n",
              "    </script>\n",
              "  </div>\n",
              "\n",
              "\n",
              "<div id=\"df-ccf60eb6-09f2-4af5-9e6d-26bedc60ef20\">\n",
              "  <button class=\"colab-df-quickchart\" onclick=\"quickchart('df-ccf60eb6-09f2-4af5-9e6d-26bedc60ef20')\"\n",
              "            title=\"Suggest charts.\"\n",
              "            style=\"display:none;\">\n",
              "\n",
              "<svg xmlns=\"http://www.w3.org/2000/svg\" height=\"24px\"viewBox=\"0 0 24 24\"\n",
              "     width=\"24px\">\n",
              "    <g>\n",
              "        <path d=\"M19 3H5c-1.1 0-2 .9-2 2v14c0 1.1.9 2 2 2h14c1.1 0 2-.9 2-2V5c0-1.1-.9-2-2-2zM9 17H7v-7h2v7zm4 0h-2V7h2v10zm4 0h-2v-4h2v4z\"/>\n",
              "    </g>\n",
              "</svg>\n",
              "  </button>\n",
              "\n",
              "<style>\n",
              "  .colab-df-quickchart {\n",
              "      --bg-color: #E8F0FE;\n",
              "      --fill-color: #1967D2;\n",
              "      --hover-bg-color: #E2EBFA;\n",
              "      --hover-fill-color: #174EA6;\n",
              "      --disabled-fill-color: #AAA;\n",
              "      --disabled-bg-color: #DDD;\n",
              "  }\n",
              "\n",
              "  [theme=dark] .colab-df-quickchart {\n",
              "      --bg-color: #3B4455;\n",
              "      --fill-color: #D2E3FC;\n",
              "      --hover-bg-color: #434B5C;\n",
              "      --hover-fill-color: #FFFFFF;\n",
              "      --disabled-bg-color: #3B4455;\n",
              "      --disabled-fill-color: #666;\n",
              "  }\n",
              "\n",
              "  .colab-df-quickchart {\n",
              "    background-color: var(--bg-color);\n",
              "    border: none;\n",
              "    border-radius: 50%;\n",
              "    cursor: pointer;\n",
              "    display: none;\n",
              "    fill: var(--fill-color);\n",
              "    height: 32px;\n",
              "    padding: 0;\n",
              "    width: 32px;\n",
              "  }\n",
              "\n",
              "  .colab-df-quickchart:hover {\n",
              "    background-color: var(--hover-bg-color);\n",
              "    box-shadow: 0 1px 2px rgba(60, 64, 67, 0.3), 0 1px 3px 1px rgba(60, 64, 67, 0.15);\n",
              "    fill: var(--button-hover-fill-color);\n",
              "  }\n",
              "\n",
              "  .colab-df-quickchart-complete:disabled,\n",
              "  .colab-df-quickchart-complete:disabled:hover {\n",
              "    background-color: var(--disabled-bg-color);\n",
              "    fill: var(--disabled-fill-color);\n",
              "    box-shadow: none;\n",
              "  }\n",
              "\n",
              "  .colab-df-spinner {\n",
              "    border: 2px solid var(--fill-color);\n",
              "    border-color: transparent;\n",
              "    border-bottom-color: var(--fill-color);\n",
              "    animation:\n",
              "      spin 1s steps(1) infinite;\n",
              "  }\n",
              "\n",
              "  @keyframes spin {\n",
              "    0% {\n",
              "      border-color: transparent;\n",
              "      border-bottom-color: var(--fill-color);\n",
              "      border-left-color: var(--fill-color);\n",
              "    }\n",
              "    20% {\n",
              "      border-color: transparent;\n",
              "      border-left-color: var(--fill-color);\n",
              "      border-top-color: var(--fill-color);\n",
              "    }\n",
              "    30% {\n",
              "      border-color: transparent;\n",
              "      border-left-color: var(--fill-color);\n",
              "      border-top-color: var(--fill-color);\n",
              "      border-right-color: var(--fill-color);\n",
              "    }\n",
              "    40% {\n",
              "      border-color: transparent;\n",
              "      border-right-color: var(--fill-color);\n",
              "      border-top-color: var(--fill-color);\n",
              "    }\n",
              "    60% {\n",
              "      border-color: transparent;\n",
              "      border-right-color: var(--fill-color);\n",
              "    }\n",
              "    80% {\n",
              "      border-color: transparent;\n",
              "      border-right-color: var(--fill-color);\n",
              "      border-bottom-color: var(--fill-color);\n",
              "    }\n",
              "    90% {\n",
              "      border-color: transparent;\n",
              "      border-bottom-color: var(--fill-color);\n",
              "    }\n",
              "  }\n",
              "</style>\n",
              "\n",
              "  <script>\n",
              "    async function quickchart(key) {\n",
              "      const quickchartButtonEl =\n",
              "        document.querySelector('#' + key + ' button');\n",
              "      quickchartButtonEl.disabled = true;  // To prevent multiple clicks.\n",
              "      quickchartButtonEl.classList.add('colab-df-spinner');\n",
              "      try {\n",
              "        const charts = await google.colab.kernel.invokeFunction(\n",
              "            'suggestCharts', [key], {});\n",
              "      } catch (error) {\n",
              "        console.error('Error during call to suggestCharts:', error);\n",
              "      }\n",
              "      quickchartButtonEl.classList.remove('colab-df-spinner');\n",
              "      quickchartButtonEl.classList.add('colab-df-quickchart-complete');\n",
              "    }\n",
              "    (() => {\n",
              "      let quickchartButtonEl =\n",
              "        document.querySelector('#df-ccf60eb6-09f2-4af5-9e6d-26bedc60ef20 button');\n",
              "      quickchartButtonEl.style.display =\n",
              "        google.colab.kernel.accessAllowed ? 'block' : 'none';\n",
              "    })();\n",
              "  </script>\n",
              "</div>\n",
              "    </div>\n",
              "  </div>\n"
            ]
          },
          "metadata": {},
          "execution_count": 7
        }
      ],
      "source": [
        "data.describe(include=\"all\")"
      ]
    },
    {
      "cell_type": "code",
      "execution_count": null,
      "id": "cf91386c",
      "metadata": {
        "execution": {
          "iopub.execute_input": "2022-07-05T00:54:40.477692Z",
          "iopub.status.busy": "2022-07-05T00:54:40.476992Z",
          "iopub.status.idle": "2022-07-05T00:54:40.483272Z",
          "shell.execute_reply": "2022-07-05T00:54:40.482061Z"
        },
        "id": "cf91386c",
        "outputId": "287f30f1-5c5c-42bb-ff31-c5a6f816ffe7",
        "papermill": {
          "duration": 0.021534,
          "end_time": "2022-07-05T00:54:40.485732",
          "exception": false,
          "start_time": "2022-07-05T00:54:40.464198",
          "status": "completed"
        },
        "tags": [],
        "colab": {
          "base_uri": "https://localhost:8080/"
        }
      },
      "outputs": [
        {
          "output_type": "execute_result",
          "data": {
            "text/plain": [
              "(4857377, 8)"
            ]
          },
          "metadata": {},
          "execution_count": 8
        }
      ],
      "source": [
        "tam1 = data.shape[0]\n",
        "data.shape"
      ]
    },
    {
      "cell_type": "code",
      "execution_count": 31,
      "id": "980204fe",
      "metadata": {
        "execution": {
          "iopub.execute_input": "2022-07-05T00:54:40.532910Z",
          "iopub.status.busy": "2022-07-05T00:54:40.532241Z",
          "iopub.status.idle": "2022-07-05T00:54:55.045669Z",
          "shell.execute_reply": "2022-07-05T00:54:55.044341Z"
        },
        "id": "980204fe",
        "outputId": "95176dab-3af9-4b30-bc13-02bf7a6fe281",
        "papermill": {
          "duration": 14.528667,
          "end_time": "2022-07-05T00:54:55.048181",
          "exception": false,
          "start_time": "2022-07-05T00:54:40.519514",
          "status": "completed"
        },
        "tags": [],
        "colab": {
          "base_uri": "https://localhost:8080/",
          "height": 850
        }
      },
      "outputs": [
        {
          "output_type": "stream",
          "name": "stdout",
          "text": [
            "Amount of missing value by columns: \n"
          ]
        },
        {
          "output_type": "execute_result",
          "data": {
            "text/plain": [
              "Open                 0\n",
              "High                 0\n",
              "Low                  0\n",
              "Close                0\n",
              "Volume_(BTC)         0\n",
              "Volume_(Currency)    0\n",
              "Weighted_Price       0\n",
              "dtype: int64"
            ]
          },
          "metadata": {},
          "execution_count": 31
        },
        {
          "output_type": "display_data",
          "data": {
            "text/plain": [
              "<Figure size 2500x1000 with 2 Axes>"
            ],
            "image/png": "[encoded data removed]"
          },
          "metadata": {}
        }
      ],
      "source": [
        "# missing values\n",
        "import missingno as msno\n",
        "%matplotlib inline\n",
        "msno.matrix(data, color=(.07,.03,.5));\n",
        "\n",
        "#  Amount of missing value\n",
        "print(\"Amount of missing value by columns: \")\n",
        "data.isnull().sum()"
      ]
    },
    {
      "cell_type": "code",
      "execution_count": null,
      "id": "5298f73e",
      "metadata": {
        "execution": {
          "iopub.execute_input": "2022-07-05T00:54:55.074273Z",
          "iopub.status.busy": "2022-07-05T00:54:55.073884Z",
          "iopub.status.idle": "2022-07-05T00:54:55.733734Z",
          "shell.execute_reply": "2022-07-05T00:54:55.732204Z"
        },
        "id": "5298f73e",
        "outputId": "5def94a6-ccdc-4503-de7c-06a3eb7f7aa2",
        "papermill": {
          "duration": 0.676227,
          "end_time": "2022-07-05T00:54:55.736647",
          "exception": false,
          "start_time": "2022-07-05T00:54:55.060420",
          "status": "completed"
        },
        "tags": [],
        "colab": {
          "base_uri": "https://localhost:8080/"
        }
      },
      "outputs": [
        {
          "output_type": "stream",
          "name": "stdout",
          "text": [
            "Amount of missing value by columns: \n"
          ]
        },
        {
          "output_type": "execute_result",
          "data": {
            "text/plain": [
              "Timestamp            0\n",
              "Open                 0\n",
              "High                 0\n",
              "Low                  0\n",
              "Close                0\n",
              "Volume_(BTC)         0\n",
              "Volume_(Currency)    0\n",
              "Weighted_Price       0\n",
              "dtype: int64"
            ]
          },
          "metadata": {},
          "execution_count": 10
        }
      ],
      "source": [
        "# Remove missing value and check\n",
        "data = data.dropna().reset_index(drop=True)\n",
        "#  Amount of missing value\n",
        "print(\"Amount of missing value by columns: \")\n",
        "data.isnull().sum()"
      ]
    },
    {
      "cell_type": "code",
      "execution_count": null,
      "id": "768d8d84",
      "metadata": {
        "execution": {
          "iopub.execute_input": "2022-07-05T00:54:55.764053Z",
          "iopub.status.busy": "2022-07-05T00:54:55.763205Z",
          "iopub.status.idle": "2022-07-05T00:54:55.768684Z",
          "shell.execute_reply": "2022-07-05T00:54:55.767662Z"
        },
        "id": "768d8d84",
        "outputId": "5f315125-0887-4bc4-88e9-d10a7de8969e",
        "papermill": {
          "duration": 0.022109,
          "end_time": "2022-07-05T00:54:55.771727",
          "exception": false,
          "start_time": "2022-07-05T00:54:55.749618",
          "status": "completed"
        },
        "tags": [],
        "colab": {
          "base_uri": "https://localhost:8080/"
        }
      },
      "outputs": [
        {
          "output_type": "stream",
          "name": "stdout",
          "text": [
            "25.602459928475795 % of data were removed from the dataset.\n"
          ]
        }
      ],
      "source": [
        "tam2 = data.shape[0]\n",
        "p_remove = 100 - (tam2*100)/tam1\n",
        "print(p_remove,\"% of data were removed from the dataset.\")"
      ]
    },
    {
      "cell_type": "code",
      "execution_count": null,
      "id": "5077aa64",
      "metadata": {
        "execution": {
          "iopub.execute_input": "2022-07-05T00:54:55.826309Z",
          "iopub.status.busy": "2022-07-05T00:54:55.825657Z",
          "iopub.status.idle": "2022-07-05T00:54:57.810115Z",
          "shell.execute_reply": "2022-07-05T00:54:57.809051Z"
        },
        "id": "5077aa64",
        "outputId": "df73c2a0-7c4e-4a53-9a6b-6bd624a5f2fe",
        "papermill": {
          "duration": 2.002698,
          "end_time": "2022-07-05T00:54:57.812499",
          "exception": false,
          "start_time": "2022-07-05T00:54:55.809801",
          "status": "completed"
        },
        "tags": [],
        "colab": {
          "base_uri": "https://localhost:8080/",
          "height": 206
        }
      },
      "outputs": [
        {
          "output_type": "execute_result",
          "data": {
            "text/plain": [
              "            Timestamp  Open  High   Low  Close  Volume_(BTC)  \\\n",
              "0 2011-12-31 07:52:00  4.39  4.39  4.39   4.39      0.455581   \n",
              "1 2011-12-31 15:50:00  4.39  4.39  4.39   4.39     48.000000   \n",
              "2 2011-12-31 16:59:00  4.50  4.57  4.50   4.57     37.862297   \n",
              "3 2011-12-31 17:00:00  4.58  4.58  4.58   4.58      9.000000   \n",
              "4 2012-01-01 04:16:00  4.58  4.58  4.58   4.58      1.502000   \n",
              "\n",
              "   Volume_(Currency)  Weighted_Price        date  \n",
              "0           2.000000        4.390000  2011-12-31  \n",
              "1         210.720000        4.390000  2011-12-31  \n",
              "2         171.380338        4.526411  2011-12-31  \n",
              "3          41.220000        4.580000  2011-12-31  \n",
              "4           6.879160        4.580000  2012-01-01  "
            ],
            "text/html": [
              "\n",
              "  <div id=\"df-2459ef0c-34f4-49a4-963e-f7dec42fb7d0\" class=\"colab-df-container\">\n",
              "    <div>\n",
              "<style scoped>\n",
              "    .dataframe tbody tr th:only-of-type {\n",
              "        vertical-align: middle;\n",
              "    }\n",
              "\n",
              "    .dataframe tbody tr th {\n",
              "        vertical-align: top;\n",
              "    }\n",
              "\n",
              "    .dataframe thead th {\n",
              "        text-align: right;\n",
              "    }\n",
              "</style>\n",
              "<table border=\"1\" class=\"dataframe\">\n",
              "  <thead>\n",
              "    <tr style=\"text-align: right;\">\n",
              "      <th></th>\n",
              "      <th>Timestamp</th>\n",
              "      <th>Open</th>\n",
              "      <th>High</th>\n",
              "      <th>Low</th>\n",
              "      <th>Close</th>\n",
              "      <th>Volume_(BTC)</th>\n",
              "      <th>Volume_(Currency)</th>\n",
              "      <th>Weighted_Price</th>\n",
              "      <th>date</th>\n",
              "    </tr>\n",
              "  </thead>\n",
              "  <tbody>\n",
              "    <tr>\n",
              "      <th>0</th>\n",
              "      <td>2011-12-31 07:52:00</td>\n",
              "      <td>4.39</td>\n",
              "      <td>4.39</td>\n",
              "      <td>4.39</td>\n",
              "      <td>4.39</td>\n",
              "      <td>0.455581</td>\n",
              "      <td>2.000000</td>\n",
              "      <td>4.390000</td>\n",
              "      <td>2011-12-31</td>\n",
              "    </tr>\n",
              "    <tr>\n",
              "      <th>1</th>\n",
              "      <td>2011-12-31 15:50:00</td>\n",
              "      <td>4.39</td>\n",
              "      <td>4.39</td>\n",
              "      <td>4.39</td>\n",
              "      <td>4.39</td>\n",
              "      <td>48.000000</td>\n",
              "      <td>210.720000</td>\n",
              "      <td>4.390000</td>\n",
              "      <td>2011-12-31</td>\n",
              "    </tr>\n",
              "    <tr>\n",
              "      <th>2</th>\n",
              "      <td>2011-12-31 16:59:00</td>\n",
              "      <td>4.50</td>\n",
              "      <td>4.57</td>\n",
              "      <td>4.50</td>\n",
              "      <td>4.57</td>\n",
              "      <td>37.862297</td>\n",
              "      <td>171.380338</td>\n",
              "      <td>4.526411</td>\n",
              "      <td>2011-12-31</td>\n",
              "    </tr>\n",
              "    <tr>\n",
              "      <th>3</th>\n",
              "      <td>2011-12-31 17:00:00</td>\n",
              "      <td>4.58</td>\n",
              "      <td>4.58</td>\n",
              "      <td>4.58</td>\n",
              "      <td>4.58</td>\n",
              "      <td>9.000000</td>\n",
              "      <td>41.220000</td>\n",
              "      <td>4.580000</td>\n",
              "      <td>2011-12-31</td>\n",
              "    </tr>\n",
              "    <tr>\n",
              "      <th>4</th>\n",
              "      <td>2012-01-01 04:16:00</td>\n",
              "      <td>4.58</td>\n",
              "      <td>4.58</td>\n",
              "      <td>4.58</td>\n",
              "      <td>4.58</td>\n",
              "      <td>1.502000</td>\n",
              "      <td>6.879160</td>\n",
              "      <td>4.580000</td>\n",
              "      <td>2012-01-01</td>\n",
              "    </tr>\n",
              "  </tbody>\n",
              "</table>\n",
              "</div>\n",
              "    <div class=\"colab-df-buttons\">\n",
              "\n",
              "  <div class=\"colab-df-container\">\n",
              "    <button class=\"colab-df-convert\" onclick=\"convertToInteractive('df-2459ef0c-34f4-49a4-963e-f7dec42fb7d0')\"\n",
              "            title=\"Convert this dataframe to an interactive table.\"\n",
              "            style=\"display:none;\">\n",
              "\n",
              "  <svg xmlns=\"http://www.w3.org/2000/svg\" height=\"24px\" viewBox=\"0 -960 960 960\">\n",
              "    <path d=\"M120-120v-720h720v720H120Zm60-500h600v-160H180v160Zm220 220h160v-160H400v160Zm0 220h160v-160H400v160ZM180-400h160v-160H180v160Zm440 0h160v-160H620v160ZM180-180h160v-160H180v160Zm440 0h160v-160H620v160Z\"/>\n",
              "  </svg>\n",
              "    </button>\n",
              "\n",
              "  <style>\n",
              "    .colab-df-container {\n",
              "      display:flex;\n",
              "      gap: 12px;\n",
              "    }\n",
              "\n",
              "    .colab-df-convert {\n",
              "      background-color: #E8F0FE;\n",
              "      border: none;\n",
              "      border-radius: 50%;\n",
              "      cursor: pointer;\n",
              "      display: none;\n",
              "      fill: #1967D2;\n",
              "      height: 32px;\n",
              "      padding: 0 0 0 0;\n",
              "      width: 32px;\n",
              "    }\n",
              "\n",
              "    .colab-df-convert:hover {\n",
              "      background-color: #E2EBFA;\n",
              "      box-shadow: 0px 1px 2px rgba(60, 64, 67, 0.3), 0px 1px 3px 1px rgba(60, 64, 67, 0.15);\n",
              "      fill: #174EA6;\n",
              "    }\n",
              "\n",
              "    .colab-df-buttons div {\n",
              "      margin-bottom: 4px;\n",
              "    }\n",
              "\n",
              "    [theme=dark] .colab-df-convert {\n",
              "      background-color: #3B4455;\n",
              "      fill: #D2E3FC;\n",
              "    }\n",
              "\n",
              "    [theme=dark] .colab-df-convert:hover {\n",
              "      background-color: #434B5C;\n",
              "      box-shadow: 0px 1px 3px 1px rgba(0, 0, 0, 0.15);\n",
              "      filter: drop-shadow(0px 1px 2px rgba(0, 0, 0, 0.3));\n",
              "      fill: #FFFFFF;\n",
              "    }\n",
              "  </style>\n",
              "\n",
              "    <script>\n",
              "      const buttonEl =\n",
              "        document.querySelector('#df-2459ef0c-34f4-49a4-963e-f7dec42fb7d0 button.colab-df-convert');\n",
              "      buttonEl.style.display =\n",
              "        google.colab.kernel.accessAllowed ? 'block' : 'none';\n",
              "\n",
              "      async function convertToInteractive(key) {\n",
              "        const element = document.querySelector('#df-2459ef0c-34f4-49a4-963e-f7dec42fb7d0');\n",
              "        const dataTable =\n",
              "          await google.colab.kernel.invokeFunction('convertToInteractive',\n",
              "                                                    [key], {});\n",
              "        if (!dataTable) return;\n",
              "\n",
              "        const docLinkHtml = 'Like what you see? Visit the ' +\n",
              "          '<a target=\"_blank\" href=https://colab.research.google.com/notebooks/data_table.ipynb>data table notebook</a>'\n",
              "          + ' to learn more about interactive tables.';\n",
              "        element.innerHTML = '';\n",
              "        dataTable['output_type'] = 'display_data';\n",
              "        await google.colab.output.renderOutput(dataTable, element);\n",
              "        const docLink = document.createElement('div');\n",
              "        docLink.innerHTML = docLinkHtml;\n",
              "        element.appendChild(docLink);\n",
              "      }\n",
              "    </script>\n",
              "  </div>\n",
              "\n",
              "\n",
              "<div id=\"df-b9f6246a-45c4-41d0-a17e-963618e28c03\">\n",
              "  <button class=\"colab-df-quickchart\" onclick=\"quickchart('df-b9f6246a-45c4-41d0-a17e-963618e28c03')\"\n",
              "            title=\"Suggest charts.\"\n",
              "            style=\"display:none;\">\n",
              "\n",
              "<svg xmlns=\"http://www.w3.org/2000/svg\" height=\"24px\"viewBox=\"0 0 24 24\"\n",
              "     width=\"24px\">\n",
              "    <g>\n",
              "        <path d=\"M19 3H5c-1.1 0-2 .9-2 2v14c0 1.1.9 2 2 2h14c1.1 0 2-.9 2-2V5c0-1.1-.9-2-2-2zM9 17H7v-7h2v7zm4 0h-2V7h2v10zm4 0h-2v-4h2v4z\"/>\n",
              "    </g>\n",
              "</svg>\n",
              "  </button>\n",
              "\n",
              "<style>\n",
              "  .colab-df-quickchart {\n",
              "      --bg-color: #E8F0FE;\n",
              "      --fill-color: #1967D2;\n",
              "      --hover-bg-color: #E2EBFA;\n",
              "      --hover-fill-color: #174EA6;\n",
              "      --disabled-fill-color: #AAA;\n",
              "      --disabled-bg-color: #DDD;\n",
              "  }\n",
              "\n",
              "  [theme=dark] .colab-df-quickchart {\n",
              "      --bg-color: #3B4455;\n",
              "      --fill-color: #D2E3FC;\n",
              "      --hover-bg-color: #434B5C;\n",
              "      --hover-fill-color: #FFFFFF;\n",
              "      --disabled-bg-color: #3B4455;\n",
              "      --disabled-fill-color: #666;\n",
              "  }\n",
              "\n",
              "  .colab-df-quickchart {\n",
              "    background-color: var(--bg-color);\n",
              "    border: none;\n",
              "    border-radius: 50%;\n",
              "    cursor: pointer;\n",
              "    display: none;\n",
              "    fill: var(--fill-color);\n",
              "    height: 32px;\n",
              "    padding: 0;\n",
              "    width: 32px;\n",
              "  }\n",
              "\n",
              "  .colab-df-quickchart:hover {\n",
              "    background-color: var(--hover-bg-color);\n",
              "    box-shadow: 0 1px 2px rgba(60, 64, 67, 0.3), 0 1px 3px 1px rgba(60, 64, 67, 0.15);\n",
              "    fill: var(--button-hover-fill-color);\n",
              "  }\n",
              "\n",
              "  .colab-df-quickchart-complete:disabled,\n",
              "  .colab-df-quickchart-complete:disabled:hover {\n",
              "    background-color: var(--disabled-bg-color);\n",
              "    fill: var(--disabled-fill-color);\n",
              "    box-shadow: none;\n",
              "  }\n",
              "\n",
              "  .colab-df-spinner {\n",
              "    border: 2px solid var(--fill-color);\n",
              "    border-color: transparent;\n",
              "    border-bottom-color: var(--fill-color);\n",
              "    animation:\n",
              "      spin 1s steps(1) infinite;\n",
              "  }\n",
              "\n",
              "  @keyframes spin {\n",
              "    0% {\n",
              "      border-color: transparent;\n",
              "      border-bottom-color: var(--fill-color);\n",
              "      border-left-color: var(--fill-color);\n",
              "    }\n",
              "    20% {\n",
              "      border-color: transparent;\n",
              "      border-left-color: var(--fill-color);\n",
              "      border-top-color: var(--fill-color);\n",
              "    }\n",
              "    30% {\n",
              "      border-color: transparent;\n",
              "      border-left-color: var(--fill-color);\n",
              "      border-top-color: var(--fill-color);\n",
              "      border-right-color: var(--fill-color);\n",
              "    }\n",
              "    40% {\n",
              "      border-color: transparent;\n",
              "      border-right-color: var(--fill-color);\n",
              "      border-top-color: var(--fill-color);\n",
              "    }\n",
              "    60% {\n",
              "      border-color: transparent;\n",
              "      border-right-color: var(--fill-color);\n",
              "    }\n",
              "    80% {\n",
              "      border-color: transparent;\n",
              "      border-right-color: var(--fill-color);\n",
              "      border-bottom-color: var(--fill-color);\n",
              "    }\n",
              "    90% {\n",
              "      border-color: transparent;\n",
              "      border-bottom-color: var(--fill-color);\n",
              "    }\n",
              "  }\n",
              "</style>\n",
              "\n",
              "  <script>\n",
              "    async function quickchart(key) {\n",
              "      const quickchartButtonEl =\n",
              "        document.querySelector('#' + key + ' button');\n",
              "      quickchartButtonEl.disabled = true;  // To prevent multiple clicks.\n",
              "      quickchartButtonEl.classList.add('colab-df-spinner');\n",
              "      try {\n",
              "        const charts = await google.colab.kernel.invokeFunction(\n",
              "            'suggestCharts', [key], {});\n",
              "      } catch (error) {\n",
              "        console.error('Error during call to suggestCharts:', error);\n",
              "      }\n",
              "      quickchartButtonEl.classList.remove('colab-df-spinner');\n",
              "      quickchartButtonEl.classList.add('colab-df-quickchart-complete');\n",
              "    }\n",
              "    (() => {\n",
              "      let quickchartButtonEl =\n",
              "        document.querySelector('#df-b9f6246a-45c4-41d0-a17e-963618e28c03 button');\n",
              "      quickchartButtonEl.style.display =\n",
              "        google.colab.kernel.accessAllowed ? 'block' : 'none';\n",
              "    })();\n",
              "  </script>\n",
              "</div>\n",
              "    </div>\n",
              "  </div>\n"
            ]
          },
          "metadata": {},
          "execution_count": 12
        }
      ],
      "source": [
        "# create a new column with date\n",
        "data.Timestamp = pd.to_datetime(data.Timestamp , unit = 's')\n",
        "data['date']= data.Timestamp.dt.date\n",
        "data.head()"
      ]
    },
    {
      "cell_type": "code",
      "execution_count": null,
      "id": "715b3598",
      "metadata": {
        "execution": {
          "iopub.execute_input": "2022-07-05T00:54:57.839390Z",
          "iopub.status.busy": "2022-07-05T00:54:57.838589Z",
          "iopub.status.idle": "2022-07-05T00:54:58.838527Z",
          "shell.execute_reply": "2022-07-05T00:54:58.837413Z"
        },
        "id": "715b3598",
        "outputId": "f66b3edc-2ddb-4105-9a5b-7f2ae09cd8f0",
        "papermill": {
          "duration": 1.015871,
          "end_time": "2022-07-05T00:54:58.840903",
          "exception": false,
          "start_time": "2022-07-05T00:54:57.825032",
          "status": "completed"
        },
        "tags": [],
        "colab": {
          "base_uri": "https://localhost:8080/",
          "height": 237
        }
      },
      "outputs": [
        {
          "output_type": "execute_result",
          "data": {
            "text/plain": [
              "                Open      High       Low     Close  Volume_(BTC)  \\\n",
              "date                                                               \n",
              "2011-12-31  4.465000  4.482500  4.465000  4.482500     23.829470   \n",
              "2012-01-01  4.806667  4.806667  4.806667  4.806667      7.200667   \n",
              "2012-01-02  5.000000  5.000000  5.000000  5.000000     19.048000   \n",
              "2012-01-03  5.252500  5.252500  5.252500  5.252500     11.004660   \n",
              "2012-01-04  5.200000  5.223333  5.200000  5.223333     11.914807   \n",
              "\n",
              "            Volume_(Currency)  Weighted_Price  \n",
              "date                                           \n",
              "2011-12-31         106.330084        4.471603  \n",
              "2012-01-01          35.259720        4.806667  \n",
              "2012-01-02          95.240000        5.000000  \n",
              "2012-01-03          58.100651        5.252500  \n",
              "2012-01-04          63.119577        5.208159  "
            ],
            "text/html": [
              "\n",
              "  <div id=\"df-df393a9d-1a03-4876-b4eb-c6ef551a7a15\" class=\"colab-df-container\">\n",
              "    <div>\n",
              "<style scoped>\n",
              "    .dataframe tbody tr th:only-of-type {\n",
              "        vertical-align: middle;\n",
              "    }\n",
              "\n",
              "    .dataframe tbody tr th {\n",
              "        vertical-align: top;\n",
              "    }\n",
              "\n",
              "    .dataframe thead th {\n",
              "        text-align: right;\n",
              "    }\n",
              "</style>\n",
              "<table border=\"1\" class=\"dataframe\">\n",
              "  <thead>\n",
              "    <tr style=\"text-align: right;\">\n",
              "      <th></th>\n",
              "      <th>Open</th>\n",
              "      <th>High</th>\n",
              "      <th>Low</th>\n",
              "      <th>Close</th>\n",
              "      <th>Volume_(BTC)</th>\n",
              "      <th>Volume_(Currency)</th>\n",
              "      <th>Weighted_Price</th>\n",
              "    </tr>\n",
              "    <tr>\n",
              "      <th>date</th>\n",
              "      <th></th>\n",
              "      <th></th>\n",
              "      <th></th>\n",
              "      <th></th>\n",
              "      <th></th>\n",
              "      <th></th>\n",
              "      <th></th>\n",
              "    </tr>\n",
              "  </thead>\n",
              "  <tbody>\n",
              "    <tr>\n",
              "      <th>2011-12-31</th>\n",
              "      <td>4.465000</td>\n",
              "      <td>4.482500</td>\n",
              "      <td>4.465000</td>\n",
              "      <td>4.482500</td>\n",
              "      <td>23.829470</td>\n",
              "      <td>106.330084</td>\n",
              "      <td>4.471603</td>\n",
              "    </tr>\n",
              "    <tr>\n",
              "      <th>2012-01-01</th>\n",
              "      <td>4.806667</td>\n",
              "      <td>4.806667</td>\n",
              "      <td>4.806667</td>\n",
              "      <td>4.806667</td>\n",
              "      <td>7.200667</td>\n",
              "      <td>35.259720</td>\n",
              "      <td>4.806667</td>\n",
              "    </tr>\n",
              "    <tr>\n",
              "      <th>2012-01-02</th>\n",
              "      <td>5.000000</td>\n",
              "      <td>5.000000</td>\n",
              "      <td>5.000000</td>\n",
              "      <td>5.000000</td>\n",
              "      <td>19.048000</td>\n",
              "      <td>95.240000</td>\n",
              "      <td>5.000000</td>\n",
              "    </tr>\n",
              "    <tr>\n",
              "      <th>2012-01-03</th>\n",
              "      <td>5.252500</td>\n",
              "      <td>5.252500</td>\n",
              "      <td>5.252500</td>\n",
              "      <td>5.252500</td>\n",
              "      <td>11.004660</td>\n",
              "      <td>58.100651</td>\n",
              "      <td>5.252500</td>\n",
              "    </tr>\n",
              "    <tr>\n",
              "      <th>2012-01-04</th>\n",
              "      <td>5.200000</td>\n",
              "      <td>5.223333</td>\n",
              "      <td>5.200000</td>\n",
              "      <td>5.223333</td>\n",
              "      <td>11.914807</td>\n",
              "      <td>63.119577</td>\n",
              "      <td>5.208159</td>\n",
              "    </tr>\n",
              "  </tbody>\n",
              "</table>\n",
              "</div>\n",
              "    <div class=\"colab-df-buttons\">\n",
              "\n",
              "  <div class=\"colab-df-container\">\n",
              "    <button class=\"colab-df-convert\" onclick=\"convertToInteractive('df-df393a9d-1a03-4876-b4eb-c6ef551a7a15')\"\n",
              "            title=\"Convert this dataframe to an interactive table.\"\n",
              "            style=\"display:none;\">\n",
              "\n",
              "  <svg xmlns=\"http://www.w3.org/2000/svg\" height=\"24px\" viewBox=\"0 -960 960 960\">\n",
              "    <path d=\"M120-120v-720h720v720H120Zm60-500h600v-160H180v160Zm220 220h160v-160H400v160Zm0 220h160v-160H400v160ZM180-400h160v-160H180v160Zm440 0h160v-160H620v160ZM180-180h160v-160H180v160Zm440 0h160v-160H620v160Z\"/>\n",
              "  </svg>\n",
              "    </button>\n",
              "\n",
              "  <style>\n",
              "    .colab-df-container {\n",
              "      display:flex;\n",
              "      gap: 12px;\n",
              "    }\n",
              "\n",
              "    .colab-df-convert {\n",
              "      background-color: #E8F0FE;\n",
              "      border: none;\n",
              "      border-radius: 50%;\n",
              "      cursor: pointer;\n",
              "      display: none;\n",
              "      fill: #1967D2;\n",
              "      height: 32px;\n",
              "      padding: 0 0 0 0;\n",
              "      width: 32px;\n",
              "    }\n",
              "\n",
              "    .colab-df-convert:hover {\n",
              "      background-color: #E2EBFA;\n",
              "      box-shadow: 0px 1px 2px rgba(60, 64, 67, 0.3), 0px 1px 3px 1px rgba(60, 64, 67, 0.15);\n",
              "      fill: #174EA6;\n",
              "    }\n",
              "\n",
              "    .colab-df-buttons div {\n",
              "      margin-bottom: 4px;\n",
              "    }\n",
              "\n",
              "    [theme=dark] .colab-df-convert {\n",
              "      background-color: #3B4455;\n",
              "      fill: #D2E3FC;\n",
              "    }\n",
              "\n",
              "    [theme=dark] .colab-df-convert:hover {\n",
              "      background-color: #434B5C;\n",
              "      box-shadow: 0px 1px 3px 1px rgba(0, 0, 0, 0.15);\n",
              "      filter: drop-shadow(0px 1px 2px rgba(0, 0, 0, 0.3));\n",
              "      fill: #FFFFFF;\n",
              "    }\n",
              "  </style>\n",
              "\n",
              "    <script>\n",
              "      const buttonEl =\n",
              "        document.querySelector('#df-df393a9d-1a03-4876-b4eb-c6ef551a7a15 button.colab-df-convert');\n",
              "      buttonEl.style.display =\n",
              "        google.colab.kernel.accessAllowed ? 'block' : 'none';\n",
              "\n",
              "      async function convertToInteractive(key) {\n",
              "        const element = document.querySelector('#df-df393a9d-1a03-4876-b4eb-c6ef551a7a15');\n",
              "        const dataTable =\n",
              "          await google.colab.kernel.invokeFunction('convertToInteractive',\n",
              "                                                    [key], {});\n",
              "        if (!dataTable) return;\n",
              "\n",
              "        const docLinkHtml = 'Like what you see? Visit the ' +\n",
              "          '<a target=\"_blank\" href=https://colab.research.google.com/notebooks/data_table.ipynb>data table notebook</a>'\n",
              "          + ' to learn more about interactive tables.';\n",
              "        element.innerHTML = '';\n",
              "        dataTable['output_type'] = 'display_data';\n",
              "        await google.colab.output.renderOutput(dataTable, element);\n",
              "        const docLink = document.createElement('div');\n",
              "        docLink.innerHTML = docLinkHtml;\n",
              "        element.appendChild(docLink);\n",
              "      }\n",
              "    </script>\n",
              "  </div>\n",
              "\n",
              "\n",
              "<div id=\"df-dcda64d1-a296-4568-afb9-04c1d560c3ff\">\n",
              "  <button class=\"colab-df-quickchart\" onclick=\"quickchart('df-dcda64d1-a296-4568-afb9-04c1d560c3ff')\"\n",
              "            title=\"Suggest charts.\"\n",
              "            style=\"display:none;\">\n",
              "\n",
              "<svg xmlns=\"http://www.w3.org/2000/svg\" height=\"24px\"viewBox=\"0 0 24 24\"\n",
              "     width=\"24px\">\n",
              "    <g>\n",
              "        <path d=\"M19 3H5c-1.1 0-2 .9-2 2v14c0 1.1.9 2 2 2h14c1.1 0 2-.9 2-2V5c0-1.1-.9-2-2-2zM9 17H7v-7h2v7zm4 0h-2V7h2v10zm4 0h-2v-4h2v4z\"/>\n",
              "    </g>\n",
              "</svg>\n",
              "  </button>\n",
              "\n",
              "<style>\n",
              "  .colab-df-quickchart {\n",
              "      --bg-color: #E8F0FE;\n",
              "      --fill-color: #1967D2;\n",
              "      --hover-bg-color: #E2EBFA;\n",
              "      --hover-fill-color: #174EA6;\n",
              "      --disabled-fill-color: #AAA;\n",
              "      --disabled-bg-color: #DDD;\n",
              "  }\n",
              "\n",
              "  [theme=dark] .colab-df-quickchart {\n",
              "      --bg-color: #3B4455;\n",
              "      --fill-color: #D2E3FC;\n",
              "      --hover-bg-color: #434B5C;\n",
              "      --hover-fill-color: #FFFFFF;\n",
              "      --disabled-bg-color: #3B4455;\n",
              "      --disabled-fill-color: #666;\n",
              "  }\n",
              "\n",
              "  .colab-df-quickchart {\n",
              "    background-color: var(--bg-color);\n",
              "    border: none;\n",
              "    border-radius: 50%;\n",
              "    cursor: pointer;\n",
              "    display: none;\n",
              "    fill: var(--fill-color);\n",
              "    height: 32px;\n",
              "    padding: 0;\n",
              "    width: 32px;\n",
              "  }\n",
              "\n",
              "  .colab-df-quickchart:hover {\n",
              "    background-color: var(--hover-bg-color);\n",
              "    box-shadow: 0 1px 2px rgba(60, 64, 67, 0.3), 0 1px 3px 1px rgba(60, 64, 67, 0.15);\n",
              "    fill: var(--button-hover-fill-color);\n",
              "  }\n",
              "\n",
              "  .colab-df-quickchart-complete:disabled,\n",
              "  .colab-df-quickchart-complete:disabled:hover {\n",
              "    background-color: var(--disabled-bg-color);\n",
              "    fill: var(--disabled-fill-color);\n",
              "    box-shadow: none;\n",
              "  }\n",
              "\n",
              "  .colab-df-spinner {\n",
              "    border: 2px solid var(--fill-color);\n",
              "    border-color: transparent;\n",
              "    border-bottom-color: var(--fill-color);\n",
              "    animation:\n",
              "      spin 1s steps(1) infinite;\n",
              "  }\n",
              "\n",
              "  @keyframes spin {\n",
              "    0% {\n",
              "      border-color: transparent;\n",
              "      border-bottom-color: var(--fill-color);\n",
              "      border-left-color: var(--fill-color);\n",
              "    }\n",
              "    20% {\n",
              "      border-color: transparent;\n",
              "      border-left-color: var(--fill-color);\n",
              "      border-top-color: var(--fill-color);\n",
              "    }\n",
              "    30% {\n",
              "      border-color: transparent;\n",
              "      border-left-color: var(--fill-color);\n",
              "      border-top-color: var(--fill-color);\n",
              "      border-right-color: var(--fill-color);\n",
              "    }\n",
              "    40% {\n",
              "      border-color: transparent;\n",
              "      border-right-color: var(--fill-color);\n",
              "      border-top-color: var(--fill-color);\n",
              "    }\n",
              "    60% {\n",
              "      border-color: transparent;\n",
              "      border-right-color: var(--fill-color);\n",
              "    }\n",
              "    80% {\n",
              "      border-color: transparent;\n",
              "      border-right-color: var(--fill-color);\n",
              "      border-bottom-color: var(--fill-color);\n",
              "    }\n",
              "    90% {\n",
              "      border-color: transparent;\n",
              "      border-bottom-color: var(--fill-color);\n",
              "    }\n",
              "  }\n",
              "</style>\n",
              "\n",
              "  <script>\n",
              "    async function quickchart(key) {\n",
              "      const quickchartButtonEl =\n",
              "        document.querySelector('#' + key + ' button');\n",
              "      quickchartButtonEl.disabled = true;  // To prevent multiple clicks.\n",
              "      quickchartButtonEl.classList.add('colab-df-spinner');\n",
              "      try {\n",
              "        const charts = await google.colab.kernel.invokeFunction(\n",
              "            'suggestCharts', [key], {});\n",
              "      } catch (error) {\n",
              "        console.error('Error during call to suggestCharts:', error);\n",
              "      }\n",
              "      quickchartButtonEl.classList.remove('colab-df-spinner');\n",
              "      quickchartButtonEl.classList.add('colab-df-quickchart-complete');\n",
              "    }\n",
              "    (() => {\n",
              "      let quickchartButtonEl =\n",
              "        document.querySelector('#df-dcda64d1-a296-4568-afb9-04c1d560c3ff button');\n",
              "      quickchartButtonEl.style.display =\n",
              "        google.colab.kernel.accessAllowed ? 'block' : 'none';\n",
              "    })();\n",
              "  </script>\n",
              "</div>\n",
              "    </div>\n",
              "  </div>\n"
            ]
          },
          "metadata": {},
          "execution_count": 13
        }
      ],
      "source": [
        "data = data.groupby(data.date).mean()\n",
        "data.head()"
      ]
    },
    {
      "cell_type": "code",
      "execution_count": null,
      "id": "2f1ba1f7",
      "metadata": {
        "execution": {
          "iopub.execute_input": "2022-07-05T00:54:58.895015Z",
          "iopub.status.busy": "2022-07-05T00:54:58.893811Z",
          "iopub.status.idle": "2022-07-05T00:54:59.117065Z",
          "shell.execute_reply": "2022-07-05T00:54:59.115966Z"
        },
        "id": "2f1ba1f7",
        "outputId": "9a4cfe40-f05a-4a1f-a0c8-9e926acc06f5",
        "papermill": {
          "duration": 0.239839,
          "end_time": "2022-07-05T00:54:59.119503",
          "exception": false,
          "start_time": "2022-07-05T00:54:58.879664",
          "status": "completed"
        },
        "tags": [],
        "colab": {
          "base_uri": "https://localhost:8080/",
          "height": 448
        }
      },
      "outputs": [
        {
          "output_type": "execute_result",
          "data": {
            "text/plain": [
              "<Axes: >"
            ]
          },
          "metadata": {},
          "execution_count": 14
        },
        {
          "output_type": "display_data",
          "data": {
            "text/plain": [
              "<Figure size 640x480 with 1 Axes>"
            ],
            "image/png": "[encoded data removed]"
          },
          "metadata": {}
        }
      ],
      "source": [
        "df = pd.DataFrame(data, columns=['Open', 'High', 'Low', 'Close'])\n",
        "df.plot.box()"
      ]
    },
    {
      "cell_type": "code",
      "execution_count": null,
      "id": "8b138cae",
      "metadata": {
        "execution": {
          "iopub.execute_input": "2022-07-05T00:54:59.147821Z",
          "iopub.status.busy": "2022-07-05T00:54:59.147423Z",
          "iopub.status.idle": "2022-07-05T00:54:59.411735Z",
          "shell.execute_reply": "2022-07-05T00:54:59.410449Z"
        },
        "papermill": {
          "duration": 0.281555,
          "end_time": "2022-07-05T00:54:59.414463",
          "exception": false,
          "start_time": "2022-07-05T00:54:59.132908",
          "status": "completed"
        },
        "tags": [],
        "colab": {
          "base_uri": "https://localhost:8080/",
          "height": 448
        },
        "id": "8b138cae",
        "outputId": "1f32248d-7760-4ba4-cc0d-e32f6969ac9e"
      },
      "outputs": [
        {
          "output_type": "execute_result",
          "data": {
            "text/plain": [
              "[<matplotlib.lines.Line2D at 0x7a852f34f670>]"
            ]
          },
          "metadata": {},
          "execution_count": 15
        },
        {
          "output_type": "display_data",
          "data": {
            "text/plain": [
              "<Figure size 640x480 with 1 Axes>"
            ],
            "image/png": "[encoded data removed]"
          },
          "metadata": {}
        }
      ],
      "source": [
        "# imprima os dados\n",
        "plt.plot(data['Weighted_Price'])"
      ]
    },
    {
      "cell_type": "code",
      "execution_count": null,
      "id": "9d2b24e7",
      "metadata": {
        "execution": {
          "iopub.execute_input": "2022-07-05T00:54:59.443428Z",
          "iopub.status.busy": "2022-07-05T00:54:59.443070Z",
          "iopub.status.idle": "2022-07-05T00:54:59.873717Z",
          "shell.execute_reply": "2022-07-05T00:54:59.872414Z"
        },
        "papermill": {
          "duration": 0.447766,
          "end_time": "2022-07-05T00:54:59.875980",
          "exception": false,
          "start_time": "2022-07-05T00:54:59.428214",
          "status": "completed"
        },
        "tags": [],
        "colab": {
          "base_uri": "https://localhost:8080/",
          "height": 587
        },
        "id": "9d2b24e7",
        "outputId": "7913277e-8717-4e2b-ab33-7de062006e2e"
      },
      "outputs": [
        {
          "output_type": "execute_result",
          "data": {
            "text/plain": [
              "<Axes: >"
            ]
          },
          "metadata": {},
          "execution_count": 16
        },
        {
          "output_type": "display_data",
          "data": {
            "text/plain": [
              "<Figure size 1000x500 with 2 Axes>"
            ],
            "image/png": "[encoded data removed]"
          },
          "metadata": {}
        }
      ],
      "source": [
        "#Data correlation\n",
        "plt.figure(figsize = (10,5))\n",
        "sns.heatmap(data.corr(), annot = True)\n"
      ]
    },
    {
      "cell_type": "markdown",
      "id": "b5b012ae",
      "metadata": {
        "id": "b5b012ae",
        "papermill": {
          "duration": 0.014301,
          "end_time": "2022-07-05T00:54:59.904730",
          "exception": false,
          "start_time": "2022-07-05T00:54:59.890429",
          "status": "completed"
        },
        "tags": []
      },
      "source": [
        "# Data pre-processing"
      ]
    },
    {
      "cell_type": "code",
      "execution_count": null,
      "id": "a4cf4432",
      "metadata": {
        "execution": {
          "iopub.execute_input": "2022-07-05T00:54:59.935749Z",
          "iopub.status.busy": "2022-07-05T00:54:59.935286Z",
          "iopub.status.idle": "2022-07-05T00:54:59.946151Z",
          "shell.execute_reply": "2022-07-05T00:54:59.944881Z"
        },
        "id": "a4cf4432",
        "papermill": {
          "duration": 0.029526,
          "end_time": "2022-07-05T00:54:59.948604",
          "exception": false,
          "start_time": "2022-07-05T00:54:59.919078",
          "status": "completed"
        },
        "tags": []
      },
      "outputs": [],
      "source": [
        "#There are some points with outliers, let's change to NaN and then call a method to fill the empty values\n",
        "data['Weighted_Price'].replace(0, np.nan, inplace=True)\n",
        "data['Weighted_Price'].fillna(method='ffill', inplace=True)"
      ]
    },
    {
      "cell_type": "code",
      "execution_count": null,
      "id": "2ae86abb",
      "metadata": {
        "execution": {
          "iopub.execute_input": "2022-07-05T00:54:59.979736Z",
          "iopub.status.busy": "2022-07-05T00:54:59.978995Z",
          "iopub.status.idle": "2022-07-05T00:54:59.985545Z",
          "shell.execute_reply": "2022-07-05T00:54:59.984419Z"
        },
        "id": "2ae86abb",
        "papermill": {
          "duration": 0.024535,
          "end_time": "2022-07-05T00:54:59.987831",
          "exception": false,
          "start_time": "2022-07-05T00:54:59.963296",
          "status": "completed"
        },
        "tags": []
      },
      "outputs": [],
      "source": [
        "# Let's use the weighted price as input to our recurring network\n",
        "# Normalizes in the range between [0 and 1]\n",
        "values = data['Weighted_Price'].values.reshape(-1,1)\n",
        "values = values.astype('float32')\n",
        "scaler = MinMaxScaler(feature_range=(0, 1))\n",
        "scaled = scaler.fit_transform(values)"
      ]
    },
    {
      "cell_type": "code",
      "execution_count": null,
      "id": "53e85620",
      "metadata": {
        "execution": {
          "iopub.execute_input": "2022-07-05T00:55:00.047376Z",
          "iopub.status.busy": "2022-07-05T00:55:00.046669Z",
          "iopub.status.idle": "2022-07-05T00:55:00.054437Z",
          "shell.execute_reply": "2022-07-05T00:55:00.053273Z"
        },
        "id": "53e85620",
        "outputId": "0593b28b-4a9f-4239-eb33-d7962213641b",
        "papermill": {
          "duration": 0.025865,
          "end_time": "2022-07-05T00:55:00.056955",
          "exception": false,
          "start_time": "2022-07-05T00:55:00.031090",
          "status": "completed"
        },
        "tags": [],
        "colab": {
          "base_uri": "https://localhost:8080/"
        }
      },
      "outputs": [
        {
          "output_type": "stream",
          "name": "stdout",
          "text": [
            "2363 1013\n"
          ]
        }
      ],
      "source": [
        "# 70% to train and 30% to test.\n",
        "train_size = int(len(scaled) * 0.7)\n",
        "test_size = len(scaled) - train_size\n",
        "train, test = scaled[0:train_size,:], scaled[train_size:len(scaled),:]\n",
        "print(len(train), len(test))"
      ]
    },
    {
      "cell_type": "code",
      "execution_count": null,
      "id": "9fad0c49",
      "metadata": {
        "execution": {
          "iopub.execute_input": "2022-07-05T00:55:00.088142Z",
          "iopub.status.busy": "2022-07-05T00:55:00.087703Z",
          "iopub.status.idle": "2022-07-05T00:55:00.093834Z",
          "shell.execute_reply": "2022-07-05T00:55:00.092993Z"
        },
        "id": "9fad0c49",
        "papermill": {
          "duration": 0.02434,
          "end_time": "2022-07-05T00:55:00.095983",
          "exception": false,
          "start_time": "2022-07-05T00:55:00.071643",
          "status": "completed"
        },
        "tags": []
      },
      "outputs": [],
      "source": [
        "\n",
        "def create_dataset(dataset, look_back=1):\n",
        "    dataX, dataY = [], []\n",
        "    for i in range(len(dataset) - look_back):\n",
        "        a = dataset[i:(i + look_back), 0]\n",
        "        dataX.append(a)\n",
        "        dataY.append(dataset[i + look_back, 0])\n",
        "    print(len(dataY))\n",
        "    return np.array(dataX), np.array(dataY)"
      ]
    },
    {
      "cell_type": "markdown",
      "id": "db96e94b",
      "metadata": {
        "papermill": {
          "duration": 0.014085,
          "end_time": "2022-07-05T00:55:00.125120",
          "exception": false,
          "start_time": "2022-07-05T00:55:00.111035",
          "status": "completed"
        },
        "tags": [],
        "id": "db96e94b"
      },
      "source": [
        "### Let's consider a single day window to consider a prediction. For that, use a function create_dataset(..) and leave the parameter look_back=1. The look_back parameter controls the amount of data that will be part of the input window for the network. Study and understand what the function does."
      ]
    },
    {
      "cell_type": "code",
      "execution_count": null,
      "id": "3f024225",
      "metadata": {
        "execution": {
          "iopub.execute_input": "2022-07-05T00:55:00.156257Z",
          "iopub.status.busy": "2022-07-05T00:55:00.155514Z",
          "iopub.status.idle": "2022-07-05T00:55:00.167717Z",
          "shell.execute_reply": "2022-07-05T00:55:00.166658Z"
        },
        "id": "3f024225",
        "outputId": "021a53fa-c58f-42fa-abca-5cebcf621e54",
        "papermill": {
          "duration": 0.031,
          "end_time": "2022-07-05T00:55:00.170479",
          "exception": false,
          "start_time": "2022-07-05T00:55:00.139479",
          "status": "completed"
        },
        "tags": [],
        "colab": {
          "base_uri": "https://localhost:8080/"
        }
      },
      "outputs": [
        {
          "output_type": "stream",
          "name": "stdout",
          "text": [
            "2362\n",
            "1012\n"
          ]
        }
      ],
      "source": [
        "# Enter with 1 single value window (Just one day)\n",
        "look_back = 1\n",
        "trainX, trainY = create_dataset(train, look_back)\n",
        "testX, testY = create_dataset(test, look_back)"
      ]
    },
    {
      "cell_type": "code",
      "execution_count": null,
      "id": "e25145a8",
      "metadata": {
        "execution": {
          "iopub.execute_input": "2022-07-05T00:55:00.201933Z",
          "iopub.status.busy": "2022-07-05T00:55:00.201316Z",
          "iopub.status.idle": "2022-07-05T00:55:00.207908Z",
          "shell.execute_reply": "2022-07-05T00:55:00.206652Z"
        },
        "id": "e25145a8",
        "papermill": {
          "duration": 0.024962,
          "end_time": "2022-07-05T00:55:00.210143",
          "exception": false,
          "start_time": "2022-07-05T00:55:00.185181",
          "status": "completed"
        },
        "tags": []
      },
      "outputs": [],
      "source": [
        "# reshape to neural network input format (instances, 1, 1)\n",
        "trainX = np.reshape(trainX, (trainX.shape[0], 1, trainX.shape[1]))\n",
        "testX = np.reshape(testX, (testX.shape[0], 1, testX.shape[1]))"
      ]
    },
    {
      "cell_type": "markdown",
      "id": "811618c3",
      "metadata": {
        "id": "811618c3",
        "papermill": {
          "duration": 0.014045,
          "end_time": "2022-07-05T00:55:00.239553",
          "exception": false,
          "start_time": "2022-07-05T00:55:00.225508",
          "status": "completed"
        },
        "tags": []
      },
      "source": [
        "# LSTM Model"
      ]
    },
    {
      "cell_type": "code",
      "execution_count": null,
      "id": "ced6d3c7",
      "metadata": {
        "execution": {
          "iopub.execute_input": "2022-07-05T00:55:00.270745Z",
          "iopub.status.busy": "2022-07-05T00:55:00.269873Z",
          "iopub.status.idle": "2022-07-05T00:55:00.973433Z",
          "shell.execute_reply": "2022-07-05T00:55:00.972053Z"
        },
        "id": "ced6d3c7",
        "outputId": "d28eb08e-d381-4cf8-ee37-0f8d23ab6ce8",
        "papermill": {
          "duration": 0.722362,
          "end_time": "2022-07-05T00:55:00.976487",
          "exception": false,
          "start_time": "2022-07-05T00:55:00.254125",
          "status": "completed"
        },
        "tags": [],
        "colab": {
          "base_uri": "https://localhost:8080/"
        }
      },
      "outputs": [
        {
          "output_type": "stream",
          "name": "stdout",
          "text": [
            "Model: \"sequential\"\n",
            "_________________________________________________________________\n",
            " Layer (type)                Output Shape              Param #   \n",
            "=================================================================\n",
            " bidirectional (Bidirection  (2362, 64)                8704      \n",
            " al)                                                             \n",
            "                                                                 \n",
            " dense (Dense)               (2362, 128)               8320      \n",
            "                                                                 \n",
            " dropout (Dropout)           (2362, 128)               0         \n",
            "                                                                 \n",
            " dense_1 (Dense)             (2362, 64)                8256      \n",
            "                                                                 \n",
            " dropout_1 (Dropout)         (2362, 64)                0         \n",
            "                                                                 \n",
            " dense_2 (Dense)             (2362, 1)                 65        \n",
            "                                                                 \n",
            "=================================================================\n",
            "Total params: 25345 (99.00 KB)\n",
            "Trainable params: 25345 (99.00 KB)\n",
            "Non-trainable params: 0 (0.00 Byte)\n",
            "_________________________________________________________________\n"
          ]
        }
      ],
      "source": [
        "model = Sequential()\n",
        "model.add(Bidirectional(LSTM(32)))\n",
        "model.add(Dense(units=128, activation='relu'))\n",
        "model.add(Dropout(0.5))\n",
        "model.add(Dense(units=64, activation='relu'))\n",
        "model.add(Dropout(0.5))\n",
        "model.add(Dense(units = 1))\n",
        "model.build(input_shape= (trainX.shape[0], trainX.shape[1], trainX.shape[2]))\n",
        "\n",
        "model.summary()"
      ]
    },
    {
      "cell_type": "markdown",
      "id": "2256761b",
      "metadata": {
        "id": "2256761b",
        "papermill": {
          "duration": 0.01481,
          "end_time": "2022-07-05T00:55:01.006374",
          "exception": false,
          "start_time": "2022-07-05T00:55:00.991564",
          "status": "completed"
        },
        "tags": []
      },
      "source": [
        "## Function for training"
      ]
    },
    {
      "cell_type": "code",
      "execution_count": null,
      "id": "c182a9ea",
      "metadata": {
        "execution": {
          "iopub.execute_input": "2022-07-05T00:55:01.039726Z",
          "iopub.status.busy": "2022-07-05T00:55:01.039077Z",
          "iopub.status.idle": "2022-07-05T00:55:01.046836Z",
          "shell.execute_reply": "2022-07-05T00:55:01.045612Z"
        },
        "id": "c182a9ea",
        "papermill": {
          "duration": 0.02632,
          "end_time": "2022-07-05T00:55:01.049022",
          "exception": false,
          "start_time": "2022-07-05T00:55:01.022702",
          "status": "completed"
        },
        "tags": []
      },
      "outputs": [],
      "source": [
        "def train_model(model, loss, optimizer, trainX, trainY):\n",
        "\n",
        "  model.compile(loss=loss, optimizer=optimizer)\n",
        "  #train model\n",
        "  history = model.fit(trainX, trainY, epochs=30, batch_size= 200,  validation_data = (testX, testY))\n",
        "  # plot cost\n",
        "  plt.plot(history.history['loss'], label='train')\n",
        "  plt.plot(history.history['val_loss'], label='test')\n",
        "  plt.legend()\n",
        "  plt.show()\n",
        "\n"
      ]
    },
    {
      "cell_type": "markdown",
      "id": "4d42c19d",
      "metadata": {
        "id": "4d42c19d",
        "papermill": {
          "duration": 0.014225,
          "end_time": "2022-07-05T00:55:01.077931",
          "exception": false,
          "start_time": "2022-07-05T00:55:01.063706",
          "status": "completed"
        },
        "tags": []
      },
      "source": [
        "## Function to evaluate model\n"
      ]
    },
    {
      "cell_type": "code",
      "execution_count": null,
      "id": "208d9cdb",
      "metadata": {
        "execution": {
          "iopub.execute_input": "2022-07-05T00:55:01.109640Z",
          "iopub.status.busy": "2022-07-05T00:55:01.109222Z",
          "iopub.status.idle": "2022-07-05T00:55:01.117751Z",
          "shell.execute_reply": "2022-07-05T00:55:01.116519Z"
        },
        "id": "208d9cdb",
        "papermill": {
          "duration": 0.027487,
          "end_time": "2022-07-05T00:55:01.119940",
          "exception": false,
          "start_time": "2022-07-05T00:55:01.092453",
          "status": "completed"
        },
        "tags": []
      },
      "outputs": [],
      "source": [
        "def evaluate_model(model, testX, testY):\n",
        "\n",
        "  yhat = model.predict(testX)\n",
        "  plt.title('Curve of actual value and predicted value on the scale used in training')\n",
        "  plt.plot(yhat, label='predict')\n",
        "  plt.plot(testY, label='true')\n",
        "  plt.legend()\n",
        "  plt.show()\n",
        "\n",
        "  yhat_inverse = scaler.inverse_transform(yhat.reshape(-1, 1))\n",
        "  testY_inverse = scaler.inverse_transform(testY.reshape(-1, 1))\n",
        "\n",
        "  rmse = sqrt(mean_squared_error(testY_inverse, yhat_inverse))\n",
        "  print('Test RMSE: %.3f' % rmse)\n",
        "\n",
        "  plt.title('Actual value curve and predicted value in US dollars')\n",
        "  plt.plot(yhat_inverse, label='predict')\n",
        "  plt.plot(testY_inverse, label='actual', alpha=0.5)\n",
        "  plt.legend()\n",
        "  plt.show()"
      ]
    },
    {
      "cell_type": "markdown",
      "id": "85c24e50",
      "metadata": {
        "id": "85c24e50",
        "papermill": {
          "duration": 0.014299,
          "end_time": "2022-07-05T00:55:01.148831",
          "exception": false,
          "start_time": "2022-07-05T00:55:01.134532",
          "status": "completed"
        },
        "tags": []
      },
      "source": [
        "# Training and evaluating model"
      ]
    },
    {
      "cell_type": "code",
      "execution_count": null,
      "id": "f43e1e85",
      "metadata": {
        "execution": {
          "iopub.execute_input": "2022-07-05T00:55:01.180441Z",
          "iopub.status.busy": "2022-07-05T00:55:01.179632Z",
          "iopub.status.idle": "2022-07-05T00:55:10.571833Z",
          "shell.execute_reply": "2022-07-05T00:55:10.570265Z"
        },
        "id": "f43e1e85",
        "outputId": "24a399dc-9037-4ce2-b262-d14928d2ff77",
        "papermill": {
          "duration": 9.410978,
          "end_time": "2022-07-05T00:55:10.574439",
          "exception": false,
          "start_time": "2022-07-05T00:55:01.163461",
          "status": "completed"
        },
        "tags": [],
        "colab": {
          "base_uri": "https://localhost:8080/",
          "height": 1000
        }
      },
      "outputs": [
        {
          "output_type": "stream",
          "name": "stdout",
          "text": [
            "Epoch 1/30\n",
            "12/12 [==============================] - 7s 147ms/step - loss: 0.0021 - val_loss: 0.0420\n",
            "Epoch 2/30\n",
            "12/12 [==============================] - 0s 12ms/step - loss: 0.0013 - val_loss: 0.0191\n",
            "Epoch 3/30\n",
            "12/12 [==============================] - 0s 12ms/step - loss: 4.8862e-04 - val_loss: 0.0024\n",
            "Epoch 4/30\n",
            "12/12 [==============================] - 0s 17ms/step - loss: 2.5591e-04 - val_loss: 2.0808e-04\n",
            "Epoch 5/30\n",
            "12/12 [==============================] - 0s 12ms/step - loss: 2.6250e-04 - val_loss: 2.6006e-04\n",
            "Epoch 6/30\n",
            "12/12 [==============================] - 0s 12ms/step - loss: 2.2086e-04 - val_loss: 2.5843e-04\n",
            "Epoch 7/30\n",
            "12/12 [==============================] - 0s 13ms/step - loss: 2.1484e-04 - val_loss: 4.5045e-04\n",
            "Epoch 8/30\n",
            "12/12 [==============================] - 0s 12ms/step - loss: 1.8865e-04 - val_loss: 3.2549e-04\n",
            "Epoch 9/30\n",
            "12/12 [==============================] - 0s 13ms/step - loss: 2.3225e-04 - val_loss: 1.5527e-04\n",
            "Epoch 10/30\n",
            "12/12 [==============================] - 0s 11ms/step - loss: 1.9604e-04 - val_loss: 3.3617e-04\n",
            "Epoch 11/30\n",
            "12/12 [==============================] - 0s 11ms/step - loss: 1.9390e-04 - val_loss: 5.6380e-04\n",
            "Epoch 12/30\n",
            "12/12 [==============================] - 0s 11ms/step - loss: 2.0124e-04 - val_loss: 7.2512e-04\n",
            "Epoch 13/30\n",
            "12/12 [==============================] - 0s 11ms/step - loss: 1.8372e-04 - val_loss: 6.0822e-04\n",
            "Epoch 14/30\n",
            "12/12 [==============================] - 0s 12ms/step - loss: 2.0076e-04 - val_loss: 9.5049e-04\n",
            "Epoch 15/30\n",
            "12/12 [==============================] - 0s 11ms/step - loss: 1.8295e-04 - val_loss: 6.4553e-04\n",
            "Epoch 16/30\n",
            "12/12 [==============================] - 0s 12ms/step - loss: 1.5287e-04 - val_loss: 6.0128e-04\n",
            "Epoch 17/30\n",
            "12/12 [==============================] - 0s 11ms/step - loss: 1.6623e-04 - val_loss: 4.2796e-04\n",
            "Epoch 18/30\n",
            "12/12 [==============================] - 0s 12ms/step - loss: 1.7160e-04 - val_loss: 1.6204e-04\n",
            "Epoch 19/30\n",
            "12/12 [==============================] - 0s 11ms/step - loss: 1.8530e-04 - val_loss: 3.1293e-04\n",
            "Epoch 20/30\n",
            "12/12 [==============================] - 0s 11ms/step - loss: 1.8773e-04 - val_loss: 1.3483e-04\n",
            "Epoch 21/30\n",
            "12/12 [==============================] - 0s 11ms/step - loss: 1.9352e-04 - val_loss: 3.6502e-04\n",
            "Epoch 22/30\n",
            "12/12 [==============================] - 0s 11ms/step - loss: 1.8509e-04 - val_loss: 2.5310e-04\n",
            "Epoch 23/30\n",
            "12/12 [==============================] - 0s 13ms/step - loss: 1.8003e-04 - val_loss: 4.3377e-04\n",
            "Epoch 24/30\n",
            "12/12 [==============================] - 0s 12ms/step - loss: 1.6451e-04 - val_loss: 3.7691e-04\n",
            "Epoch 25/30\n",
            "12/12 [==============================] - 0s 12ms/step - loss: 1.8515e-04 - val_loss: 2.8799e-04\n",
            "Epoch 26/30\n",
            "12/12 [==============================] - 0s 13ms/step - loss: 2.0512e-04 - val_loss: 1.3676e-04\n",
            "Epoch 27/30\n",
            "12/12 [==============================] - 0s 12ms/step - loss: 1.6882e-04 - val_loss: 1.5289e-04\n",
            "Epoch 28/30\n",
            "12/12 [==============================] - 0s 11ms/step - loss: 1.5895e-04 - val_loss: 3.0924e-04\n",
            "Epoch 29/30\n",
            "12/12 [==============================] - 0s 12ms/step - loss: 1.3048e-04 - val_loss: 1.2292e-04\n",
            "Epoch 30/30\n",
            "12/12 [==============================] - 0s 12ms/step - loss: 1.3678e-04 - val_loss: 2.5910e-04\n"
          ]
        },
        {
          "output_type": "display_data",
          "data": {
            "text/plain": [
              "<Figure size 640x480 with 1 Axes>"
            ],
            "image/png": "[encoded data removed]"
          },
          "metadata": {}
        }
      ],
      "source": [
        "train_model(model, 'mse', 'adam', trainX, trainY)"
      ]
    },
    {
      "cell_type": "code",
      "execution_count": null,
      "id": "fdc32e57",
      "metadata": {
        "execution": {
          "iopub.execute_input": "2022-07-05T00:55:10.621531Z",
          "iopub.status.busy": "2022-07-05T00:55:10.620224Z",
          "iopub.status.idle": "2022-07-05T00:55:11.837746Z",
          "shell.execute_reply": "2022-07-05T00:55:11.836261Z"
        },
        "id": "fdc32e57",
        "outputId": "99c9086d-7d53-4c62-f08c-0dfbf3628779",
        "papermill": {
          "duration": 1.243551,
          "end_time": "2022-07-05T00:55:11.840098",
          "exception": false,
          "start_time": "2022-07-05T00:55:10.596547",
          "status": "completed"
        },
        "tags": [],
        "colab": {
          "base_uri": "https://localhost:8080/",
          "height": 924
        }
      },
      "outputs": [
        {
          "output_type": "stream",
          "name": "stdout",
          "text": [
            "32/32 [==============================] - 1s 2ms/step\n"
          ]
        },
        {
          "output_type": "display_data",
          "data": {
            "text/plain": [
              "<Figure size 640x480 with 1 Axes>"
            ],
            "image/png": "[encoded data removed]"
          },
          "metadata": {}
        },
        {
          "output_type": "stream",
          "name": "stdout",
          "text": [
            "Test RMSE: 973.071\n"
          ]
        },
        {
          "output_type": "display_data",
          "data": {
            "text/plain": [
              "<Figure size 640x480 with 1 Axes>"
            ],
            "image/png": "[encoded data removed]"
          },
          "metadata": {}
        }
      ],
      "source": [
        "# test\n",
        "evaluate_model(model, testX, testY)"
      ]
    },
    {
      "cell_type": "markdown",
      "id": "8d5d75f8",
      "metadata": {
        "id": "8d5d75f8",
        "papermill": {
          "duration": 0.022441,
          "end_time": "2022-07-05T00:55:11.885692",
          "exception": false,
          "start_time": "2022-07-05T00:55:11.863251",
          "status": "completed"
        },
        "tags": []
      },
      "source": [
        "# Predicting the next day"
      ]
    },
    {
      "cell_type": "code",
      "execution_count": null,
      "id": "fc9322fa",
      "metadata": {
        "execution": {
          "iopub.execute_input": "2022-07-05T00:55:11.932685Z",
          "iopub.status.busy": "2022-07-05T00:55:11.932257Z",
          "iopub.status.idle": "2022-07-05T00:55:11.943259Z",
          "shell.execute_reply": "2022-07-05T00:55:11.942306Z"
        },
        "id": "fc9322fa",
        "papermill": {
          "duration": 0.037195,
          "end_time": "2022-07-05T00:55:11.945414",
          "exception": false,
          "start_time": "2022-07-05T00:55:11.908219",
          "status": "completed"
        },
        "tags": []
      },
      "outputs": [],
      "source": [
        "def create_time_steps(length):\n",
        "  time_steps = []\n",
        "  for i in range(-length, 0, 1):\n",
        "    time_steps.append(i)\n",
        "  return time_steps\n",
        "\n",
        "def baseline(history):\n",
        "  return np.mean(history)\n",
        "\n",
        "def show_plot(plot_data, delta, title):\n",
        "  labels = ['History', 'True Future', 'Model Prediction']\n",
        "  marker = ['.-', 'rx', 'go']\n",
        "  time_steps = create_time_steps(plot_data[0].shape[0])\n",
        "  if delta:\n",
        "    future = delta\n",
        "  else:\n",
        "    future = 0\n",
        "\n",
        "  plt.title(title)\n",
        "  for i, x in enumerate(plot_data):\n",
        "    if i:\n",
        "      plt.plot(future, plot_data[i], marker[i], markersize=10,\n",
        "               label=labels[i])\n",
        "    else:\n",
        "      plt.plot(time_steps, plot_data[i].flatten(), marker[i], label=labels[i])\n",
        "  plt.legend()\n",
        "  plt.xlim([time_steps[0], (future+5)*2])\n",
        "  plt.xlabel('Time-Step')\n",
        "  return plt"
      ]
    },
    {
      "cell_type": "code",
      "execution_count": null,
      "id": "f9f8ab95",
      "metadata": {
        "execution": {
          "iopub.execute_input": "2022-07-05T00:55:11.993729Z",
          "iopub.status.busy": "2022-07-05T00:55:11.993295Z",
          "iopub.status.idle": "2022-07-05T00:55:12.000906Z",
          "shell.execute_reply": "2022-07-05T00:55:11.999671Z"
        },
        "id": "f9f8ab95",
        "papermill": {
          "duration": 0.034466,
          "end_time": "2022-07-05T00:55:12.003380",
          "exception": false,
          "start_time": "2022-07-05T00:55:11.968914",
          "status": "completed"
        },
        "tags": []
      },
      "outputs": [],
      "source": [
        "def predict_next_day(model, testX, testY):\n",
        "\n",
        "  yhat_inverse = scaler.inverse_transform(model.predict(testX).reshape(-1, 1))\n",
        "  testY_inverse = scaler.inverse_transform(testY.reshape(-1, 1))\n",
        "\n",
        "  show_plot([testY_inverse[0:200], yhat_inverse[201],baseline(testY_inverse[201])], 1, 'Next day prediction')\n",
        "\n",
        "  print('predicted value of day 201: ', yhat_inverse[201])\n",
        "  print('Actual value of day 201: ', testY_inverse[201])"
      ]
    },
    {
      "cell_type": "code",
      "execution_count": null,
      "id": "f0abc8a9",
      "metadata": {
        "execution": {
          "iopub.execute_input": "2022-07-05T00:55:12.051613Z",
          "iopub.status.busy": "2022-07-05T00:55:12.050913Z",
          "iopub.status.idle": "2022-07-05T00:55:12.331491Z",
          "shell.execute_reply": "2022-07-05T00:55:12.330470Z"
        },
        "id": "f0abc8a9",
        "outputId": "1683d130-94ff-4208-adf7-ccdc985e2f64",
        "papermill": {
          "duration": 0.307703,
          "end_time": "2022-07-05T00:55:12.334076",
          "exception": false,
          "start_time": "2022-07-05T00:55:12.026373",
          "status": "completed"
        },
        "tags": [],
        "colab": {
          "base_uri": "https://localhost:8080/",
          "height": 527
        }
      },
      "outputs": [
        {
          "output_type": "stream",
          "name": "stdout",
          "text": [
            "32/32 [==============================] - 0s 2ms/step\n",
            "predicted value of day 201:  [3590.4824]\n",
            "Actual value of day 201:  [3636.6807]\n"
          ]
        },
        {
          "output_type": "display_data",
          "data": {
            "text/plain": [
              "<Figure size 640x480 with 1 Axes>"
            ],
            "image/png": "[encoded data removed]"
          },
          "metadata": {}
        }
      ],
      "source": [
        "predict_next_day(model, testX, testY)"
      ]
    },
    {
      "cell_type": "code",
      "source": [],
      "metadata": {
        "id": "OEF5wSuAW75K"
      },
      "id": "OEF5wSuAW75K",
      "execution_count": null,
      "outputs": []
    }
  ],
  "metadata": {
    "kernelspec": {
      "display_name": "Python 3",
      "language": "python",
      "name": "python3"
    },
    "language_info": {
      "codemirror_mode": {
        "name": "ipython",
        "version": 3
      },
      "file_extension": ".py",
      "mimetype": "text/x-python",
      "name": "python",
      "nbconvert_exporter": "python",
      "pygments_lexer": "ipython3",
      "version": "3.7.12"
    },
    "papermill": {
      "default_parameters": {},
      "duration": 68.807181,
      "end_time": "2022-07-05T00:55:15.655919",
      "environment_variables": {},
      "exception": null,
      "input_path": "__notebook__.ipynb",
      "output_path": "__notebook__.ipynb",
      "parameters": {},
      "start_time": "2022-07-05T00:54:06.848738",
      "version": "2.3.4"
    },
    "colab": {
      "provenance": [],
      "include_colab_link": true
    }
  },
  "nbformat": 4,
  "nbformat_minor": 5
}